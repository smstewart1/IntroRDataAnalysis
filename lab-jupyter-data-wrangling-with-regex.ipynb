{
 "cells": [
  {
   "cell_type": "markdown",
   "metadata": {},
   "source": [
    "<center>\n",
    "<img src=\"https://cf-courses-data.s3.us.cloud-object-storage.appdomain.cloud/IBMDeveloperSkillsNetwork-RP0321EN-SkillsNetwork/labs/module_1/images/SN_web_lightmode.png\" width=\"300\"> \n",
    "</center>\n"
   ]
  },
  {
   "cell_type": "markdown",
   "metadata": {},
   "source": [
    "<h1>Data Wrangling with Regular Expressions</h1>\n",
    "\n",
    "Estimated time needed: **40** minutes\n"
   ]
  },
  {
   "cell_type": "markdown",
   "metadata": {},
   "source": [
    "## Lab Overview:\n",
    "\n",
    "In the previous data collection labs, you collected some raw datasets from several different sources. In this lab, you need to perform data wrangling tasks in order to improve data quality.\n"
   ]
  },
  {
   "cell_type": "markdown",
   "metadata": {},
   "source": [
    "You will again use regular expressions, along with the `stringr` package (part of `tidyverse`), to clean up the bike-sharing systems data that you previously web scraped from the wiki page: \n",
    "\n",
    "https://en.wikipedia.org/wiki/List_of_bicycle-sharing_systems\n",
    "\n",
    "<a href=\"https://cognitiveclass.ai/?utm_medium=Exinfluencer&utm_source=Exinfluencer&utm_content=000026UJ&utm_term=10006555&utm_id=NA-SkillsNetwork-Channel-SkillsNetworkCoursesIBMDeveloperSkillsNetworkRP0321ENSkillsNetwork878-2022-01-01\">\n",
    "    <img src=\"https://cf-courses-data.s3.us.cloud-object-storage.appdomain.cloud/IBMDeveloperSkillsNetwork-RP0321EN-SkillsNetwork/labs/module_1/images/l2-list-bike-sharing-systems.png\" width=\"800\" align=\"center\">\n",
    "</a>\n"
   ]
  },
  {
   "cell_type": "markdown",
   "metadata": {},
   "source": [
    "One typical challenge of web scraping is that data extracted from HTML pages may contain unnecessary or inconsistently fomatted information.  \n",
    "For example:\n",
    " - Textual annotations in numeric fields: `1000 (Updated with 1050)`\n",
    " - Attached reference links: `Bike sharing system [123]`\n",
    " - Inconsistent data formats: `Yes` and `Y` for the logical value `TRUE` or `2021-04-09` and `Apr 09, 2021` for the same date\n",
    " - HTML style tags: `<span style=\"color:blue\">Bike sharing system</span>`\n",
    " - Special characters: `&nbsp` for a white space\n",
    " \n",
    "Many more such examples of noise may be encountered in real-world scraped data and most of such text related noises could be handled by regular expressions.\n"
   ]
  },
  {
   "cell_type": "markdown",
   "metadata": {},
   "source": [
    "To summarize, you will be using `stringr` (part of `tidyverse`) and regular expressions to perform the following data wrangling tasks:\n",
    "  - TASK: Standardize column names for all collected datasets\n",
    "  - TASK: Remove undesired reference links from the scraped bike-sharing systems dataset\n",
    "  - TASK: Extract only the numeric value from undesired text annotations\n"
   ]
  },
  {
   "cell_type": "markdown",
   "metadata": {},
   "source": [
    "Let's begin by importing the libraries you will use for these data wrangling tasks.\n"
   ]
  },
  {
   "cell_type": "code",
   "execution_count": 1,
   "metadata": {
    "tags": []
   },
   "outputs": [
    {
     "name": "stderr",
     "output_type": "stream",
     "text": [
      "Loading required package: tidyverse\n",
      "── Attaching packages ─────────────────────────────────────── tidyverse 1.3.0 ──\n",
      "✔ ggplot2 3.3.0     ✔ purrr   0.3.4\n",
      "✔ tibble  3.0.1     ✔ dplyr   0.8.5\n",
      "✔ tidyr   1.0.2     ✔ stringr 1.4.0\n",
      "✔ readr   1.3.1     ✔ forcats 0.5.0\n",
      "── Conflicts ────────────────────────────────────────── tidyverse_conflicts() ──\n",
      "✖ dplyr::filter() masks stats::filter()\n",
      "✖ dplyr::lag()    masks stats::lag()\n"
     ]
    }
   ],
   "source": [
    "# Check whether you need to install the `tidyverse` library\n",
    "require(\"tidyverse\")\n",
    "library(tidyverse)"
   ]
  },
  {
   "cell_type": "markdown",
   "metadata": {},
   "source": [
    "## TASK: Standardize column names for all collected datasets \n"
   ]
  },
  {
   "cell_type": "markdown",
   "metadata": {},
   "source": [
    "In the previous data collection labs, you collected four datasets in csv format:\n",
    "- `raw_bike_sharing_systems.csv`:  A list of active bike-sharing systems across the world\n",
    "- `raw_cities_weather_forecast.csv`: 5-day weather forecasts for a list of cities, from OpenWeather API\n",
    "- `raw_worldcities.csv`: A list of major cities' info (such as name, latitude and longitude) across the world\n",
    "- `raw_seoul_bike_sharing.csv`: Weather information (Temperature, Humidity, Windspeed, Visibility, Dewpoint, Solar radiation, Snowfall, Rainfall), the number of bikes rented per hour, and date information, from Seoul bike-sharing systems\n"
   ]
  },
  {
   "cell_type": "markdown",
   "metadata": {},
   "source": [
    "*Optional:* If you had some difficulties finishing the data collection labs, you may download the datasets directly from the following URLs:\n"
   ]
  },
  {
   "cell_type": "code",
   "execution_count": 26,
   "metadata": {
    "tags": []
   },
   "outputs": [],
   "source": [
    "# Download raw_bike_sharing_systems.csv\n",
    "url <- \"https://cf-courses-data.s3.us.cloud-object-storage.appdomain.cloud/IBMDeveloperSkillsNetwork-RP0321EN-SkillsNetwork/labs/datasets/raw_bike_sharing_systems.csv\"\n",
    "download.file(url, destfile = \"raw_bike_sharing_systems.csv\")\n",
    "\n",
    "# Download raw_cities_weather_forecast.csv\n",
    "url <- \"https://cf-courses-data.s3.us.cloud-object-storage.appdomain.cloud/IBMDeveloperSkillsNetwork-RP0321EN-SkillsNetwork/labs/datasets/raw_cities_weather_forecast.csv\"\n",
    "download.file(url, destfile = \"raw_cities_weather_forecast.csv\")\n",
    "\n",
    "# Download raw_worldcities.csv\n",
    "url <- \"https://cf-courses-data.s3.us.cloud-object-storage.appdomain.cloud/IBMDeveloperSkillsNetwork-RP0321EN-SkillsNetwork/labs/datasets/raw_worldcities.csv\"\n",
    "download.file(url, destfile = \"raw_worldcities.csv\")\n",
    "\n",
    "# Download raw_seoul_bike_sharing.csv\n",
    "url <- \"https://cf-courses-data.s3.us.cloud-object-storage.appdomain.cloud/IBMDeveloperSkillsNetwork-RP0321EN-SkillsNetwork/labs/datasets/raw_seoul_bike_sharing.csv\"\n",
    "download.file(url, destfile = \"raw_seoul_bike_sharing.csv\")"
   ]
  },
  {
   "cell_type": "markdown",
   "metadata": {},
   "source": [
    "To improve dataset readbility by both human and computer systems, we first need to standardize the column names of the datasets above using the following naming convention:\n",
    " - Column names need to be UPPERCASE\n",
    " - The word separator needs to be an underscore, such as in `COLUMN_NAME`\n"
   ]
  },
  {
   "cell_type": "markdown",
   "metadata": {},
   "source": [
    "You can use the following dataset list and the `names()` function to get and set each of their column names, and convert them according to our defined naming convention.\n"
   ]
  },
  {
   "cell_type": "code",
   "execution_count": 12,
   "metadata": {
    "tags": []
   },
   "outputs": [],
   "source": [
    "dataset_list <- c('raw_bike_sharing_systems.csv', 'raw_seoul_bike_sharing.csv', 'raw_cities_weather_forecast.csv', 'raw_worldcities.csv')"
   ]
  },
  {
   "cell_type": "markdown",
   "metadata": {},
   "source": [
    "_TODO_: Write a `for` loop to iterate over the above datasets and convert their column names \n"
   ]
  },
  {
   "cell_type": "code",
   "execution_count": 28,
   "metadata": {
    "tags": []
   },
   "outputs": [
    {
     "name": "stderr",
     "output_type": "stream",
     "text": [
      "Parsed with column specification:\n",
      "cols(\n",
      "  COUNTRY = col_character(),\n",
      "  City = col_character(),\n",
      "  Name = col_character(),\n",
      "  SYSTEM = col_character(),\n",
      "  OPERATOR = col_character(),\n",
      "  LAUNCHED = col_character(),\n",
      "  DISCONTINUED = col_character(),\n",
      "  STATIONS = col_character(),\n",
      "  BICYCLES = col_character(),\n",
      "  DAILY_RIDERSHIP = col_character()\n",
      ")\n",
      "Parsed with column specification:\n",
      "cols(\n",
      "  Date = col_character(),\n",
      "  RENTED_BIKE_COUNT = col_double(),\n",
      "  Hour = col_double(),\n",
      "  TEMPERATURE = col_double(),\n",
      "  HUMIDITY = col_double(),\n",
      "  WIND_SPEED = col_double(),\n",
      "  Visibility = col_double(),\n",
      "  DEW_POINT_TEMPERATURE = col_double(),\n",
      "  SOLAR_RADIATION = col_double(),\n",
      "  RAINFALL = col_double(),\n",
      "  Snowfall = col_double(),\n",
      "  SEASONS = col_character(),\n",
      "  HOLIDAY = col_character(),\n",
      "  FUNCTIONING_DAY = col_character()\n",
      ")\n",
      "Parsed with column specification:\n",
      "cols(\n",
      "  city = col_character(),\n",
      "  weather = col_character(),\n",
      "  visibility = col_double(),\n",
      "  temp = col_double(),\n",
      "  temp_min = col_double(),\n",
      "  temp_max = col_double(),\n",
      "  pressure = col_double(),\n",
      "  humidity = col_double(),\n",
      "  wind_speed = col_double(),\n",
      "  wind_deg = col_double(),\n",
      "  season = col_character(),\n",
      "  forecast_datetime = col_datetime(format = \"\")\n",
      ")\n",
      "Parsed with column specification:\n",
      "cols(\n",
      "  City = col_character(),\n",
      "  CITY_ASCII = col_character(),\n",
      "  LAT = col_double(),\n",
      "  LNG = col_double(),\n",
      "  COUNTRY = col_character(),\n",
      "  ISO2 = col_character(),\n",
      "  ISO3 = col_character(),\n",
      "  ADMIN_NAME = col_character(),\n",
      "  CAPITAL = col_character(),\n",
      "  POPULATION = col_double(),\n",
      "  ID = col_double()\n",
      ")\n"
     ]
    }
   ],
   "source": [
    "for (dataset_name in dataset_list){\n",
    "    # Read dataset\n",
    "    dataset <- read_csv(dataset_name)\n",
    "    # Standardized its columns:\n",
    "    # Convert all column names to uppercase\n",
    "    names(dataset) <- toupper(names(dataset))\n",
    "    # Replace any white space separators by underscores, using the str_replace_all function\n",
    "    names(dataset_name) <- str_replace_all(names(dataset_name), pattern = \" \", repl = \"_\")\n",
    "    # Save the dataset \n",
    "    write.csv(dataset, dataset_name, row.names=FALSE)\n",
    "}\n"
   ]
  },
  {
   "cell_type": "markdown",
   "metadata": {},
   "source": [
    "_TODO_: Read the resulting datasets back and check whether their column names follow the naming convention\n"
   ]
  },
  {
   "cell_type": "code",
   "execution_count": 24,
   "metadata": {
    "tags": []
   },
   "outputs": [
    {
     "name": "stderr",
     "output_type": "stream",
     "text": [
      "Parsed with column specification:\n",
      "cols(\n",
      "  COUNTRY = col_character(),\n",
      "  CITY = col_character(),\n",
      "  NAME = col_character(),\n",
      "  SYSTEM = col_character(),\n",
      "  OPERATOR = col_character(),\n",
      "  LAUNCHED = col_character(),\n",
      "  DISCONTINUED = col_character(),\n",
      "  STATIONS = col_character(),\n",
      "  BICYCLES = col_character(),\n",
      "  DAILY_RIDERSHIP = col_character()\n",
      ")\n",
      "Parsed with column specification:\n",
      "cols(\n",
      "  DATE = col_character(),\n",
      "  RENTED_BIKE_COUNT = col_double(),\n",
      "  HOUR = col_double(),\n",
      "  TEMPERATURE = col_double(),\n",
      "  HUMIDITY = col_double(),\n",
      "  WIND_SPEED = col_double(),\n",
      "  VISIBILITY = col_double(),\n",
      "  DEW_POINT_TEMPERATURE = col_double(),\n",
      "  SOLAR_RADIATION = col_double(),\n",
      "  RAINFALL = col_double(),\n",
      "  SNOWFALL = col_double(),\n",
      "  SEASONS = col_character(),\n",
      "  HOLIDAY = col_character(),\n",
      "  FUNCTIONING_DAY = col_character()\n",
      ")\n",
      "Parsed with column specification:\n",
      "cols(\n",
      "  CITY = col_character(),\n",
      "  WEATHER = col_character(),\n",
      "  VISIBILITY = col_double(),\n",
      "  TEMP = col_double(),\n",
      "  TEMP_MIN = col_double(),\n",
      "  TEMP_MAX = col_double(),\n",
      "  PRESSURE = col_double(),\n",
      "  HUMIDITY = col_double(),\n",
      "  WIND_SPEED = col_double(),\n",
      "  WIND_DEG = col_double(),\n",
      "  SEASON = col_character(),\n",
      "  FORECAST_DATETIME = col_datetime(format = \"\")\n",
      ")\n",
      "Parsed with column specification:\n",
      "cols(\n",
      "  CITY = col_character(),\n",
      "  CITY_ASCII = col_character(),\n",
      "  LAT = col_double(),\n",
      "  LNG = col_double(),\n",
      "  COUNTRY = col_character(),\n",
      "  ISO2 = col_character(),\n",
      "  ISO3 = col_character(),\n",
      "  ADMIN_NAME = col_character(),\n",
      "  CAPITAL = col_character(),\n",
      "  POPULATION = col_double(),\n",
      "  ID = col_double()\n",
      ")\n"
     ]
    }
   ],
   "source": [
    "for (dataset_name in dataset_list){\n",
    "    # Print a summary for each data set to check whether the column names were correctly converted\n",
    "    df <- data.frame(read_csv(dataset_name))\n",
    "    head(df)\n",
    "}"
   ]
  },
  {
   "cell_type": "markdown",
   "metadata": {},
   "source": [
    "## Process the web-scraped bike sharing system dataset \n"
   ]
  },
  {
   "cell_type": "markdown",
   "metadata": {},
   "source": [
    "By now we have standardized all column names. Next, we will focus on cleaning up the values in the web-scraped bike sharing systems dataset.\n"
   ]
  },
  {
   "cell_type": "code",
   "execution_count": 29,
   "metadata": {
    "tags": []
   },
   "outputs": [
    {
     "name": "stderr",
     "output_type": "stream",
     "text": [
      "Parsed with column specification:\n",
      "cols(\n",
      "  COUNTRY = col_character(),\n",
      "  CITY = col_character(),\n",
      "  NAME = col_character(),\n",
      "  SYSTEM = col_character(),\n",
      "  OPERATOR = col_character(),\n",
      "  LAUNCHED = col_character(),\n",
      "  DISCONTINUED = col_character(),\n",
      "  STATIONS = col_character(),\n",
      "  BICYCLES = col_character(),\n",
      "  DAILY_RIDERSHIP = col_character()\n",
      ")\n"
     ]
    }
   ],
   "source": [
    "# First load the dataset\n",
    "bike_sharing_df <- read_csv(\"raw_bike_sharing_systems.csv\")"
   ]
  },
  {
   "cell_type": "code",
   "execution_count": 30,
   "metadata": {
    "tags": []
   },
   "outputs": [
    {
     "data": {
      "text/html": [
       "<table>\n",
       "<caption>A tibble: 6 × 10</caption>\n",
       "<thead>\n",
       "\t<tr><th scope=col>COUNTRY</th><th scope=col>CITY</th><th scope=col>NAME</th><th scope=col>SYSTEM</th><th scope=col>OPERATOR</th><th scope=col>LAUNCHED</th><th scope=col>DISCONTINUED</th><th scope=col>STATIONS</th><th scope=col>BICYCLES</th><th scope=col>DAILY_RIDERSHIP</th></tr>\n",
       "\t<tr><th scope=col>&lt;chr&gt;</th><th scope=col>&lt;chr&gt;</th><th scope=col>&lt;chr&gt;</th><th scope=col>&lt;chr&gt;</th><th scope=col>&lt;chr&gt;</th><th scope=col>&lt;chr&gt;</th><th scope=col>&lt;chr&gt;</th><th scope=col>&lt;chr&gt;</th><th scope=col>&lt;chr&gt;</th><th scope=col>&lt;chr&gt;</th></tr>\n",
       "</thead>\n",
       "<tbody>\n",
       "\t<tr><td>Albania  </td><td>Tirana               </td><td>Ecovolis            </td><td>NA            </td><td>NA                            </td><td>March 2011      </td><td>NA                  </td><td>8  </td><td>200 </td><td>NA   </td></tr>\n",
       "\t<tr><td>Argentina</td><td>Mendoza              </td><td>Metrobici           </td><td>NA            </td><td>NA                            </td><td>2014            </td><td>NA                  </td><td>2  </td><td>40  </td><td>NA   </td></tr>\n",
       "\t<tr><td>Argentina</td><td>San Lorenzo, Santa Fe</td><td>Biciudad            </td><td>Biciudad      </td><td>NA                            </td><td>27 November 2016</td><td>NA                  </td><td>8  </td><td>80  </td><td>NA   </td></tr>\n",
       "\t<tr><td>Argentina</td><td>Buenos Aires         </td><td>Ecobici             </td><td>Serttel Brasil</td><td>Bike In Baires Consortium.[10]</td><td>2010            </td><td>NA                  </td><td>400</td><td>4000</td><td>21917</td></tr>\n",
       "\t<tr><td>Argentina</td><td>Rosario              </td><td>Mi Bici Tu Bici[11] </td><td>NA            </td><td>NA                            </td><td>2 December 2015 </td><td>NA                  </td><td>47 </td><td>480 </td><td>NA   </td></tr>\n",
       "\t<tr><td>Australia</td><td><span style=white-space:pre-wrap>Melbourne[12]        </span></td><td>Melbourne Bike Share</td><td><span style=white-space:pre-wrap>PBSC &amp; 8D     </span></td><td><span style=white-space:pre-wrap>Motivate                      </span></td><td><span style=white-space:pre-wrap>June 2010       </span></td><td>30 November 2019[13]</td><td>53 </td><td>676 </td><td><span style=white-space:pre-wrap>NA   </span></td></tr>\n",
       "</tbody>\n",
       "</table>\n"
      ],
      "text/latex": [
       "A tibble: 6 × 10\n",
       "\\begin{tabular}{llllllllll}\n",
       " COUNTRY & CITY & NAME & SYSTEM & OPERATOR & LAUNCHED & DISCONTINUED & STATIONS & BICYCLES & DAILY\\_RIDERSHIP\\\\\n",
       " <chr> & <chr> & <chr> & <chr> & <chr> & <chr> & <chr> & <chr> & <chr> & <chr>\\\\\n",
       "\\hline\n",
       "\t Albania   & Tirana                & Ecovolis             & NA             & NA                             & March 2011       & NA                   & 8   & 200  & NA   \\\\\n",
       "\t Argentina & Mendoza               & Metrobici            & NA             & NA                             & 2014             & NA                   & 2   & 40   & NA   \\\\\n",
       "\t Argentina & San Lorenzo, Santa Fe & Biciudad             & Biciudad       & NA                             & 27 November 2016 & NA                   & 8   & 80   & NA   \\\\\n",
       "\t Argentina & Buenos Aires          & Ecobici              & Serttel Brasil & Bike In Baires Consortium.{[}10{]} & 2010             & NA                   & 400 & 4000 & 21917\\\\\n",
       "\t Argentina & Rosario               & Mi Bici Tu Bici{[}11{]}  & NA             & NA                             & 2 December 2015  & NA                   & 47  & 480  & NA   \\\\\n",
       "\t Australia & Melbourne{[}12{]}         & Melbourne Bike Share & PBSC \\& 8D      & Motivate                       & June 2010        & 30 November 2019{[}13{]} & 53  & 676  & NA   \\\\\n",
       "\\end{tabular}\n"
      ],
      "text/markdown": [
       "\n",
       "A tibble: 6 × 10\n",
       "\n",
       "| COUNTRY &lt;chr&gt; | CITY &lt;chr&gt; | NAME &lt;chr&gt; | SYSTEM &lt;chr&gt; | OPERATOR &lt;chr&gt; | LAUNCHED &lt;chr&gt; | DISCONTINUED &lt;chr&gt; | STATIONS &lt;chr&gt; | BICYCLES &lt;chr&gt; | DAILY_RIDERSHIP &lt;chr&gt; |\n",
       "|---|---|---|---|---|---|---|---|---|---|\n",
       "| Albania   | Tirana                | Ecovolis             | NA             | NA                             | March 2011       | NA                   | 8   | 200  | NA    |\n",
       "| Argentina | Mendoza               | Metrobici            | NA             | NA                             | 2014             | NA                   | 2   | 40   | NA    |\n",
       "| Argentina | San Lorenzo, Santa Fe | Biciudad             | Biciudad       | NA                             | 27 November 2016 | NA                   | 8   | 80   | NA    |\n",
       "| Argentina | Buenos Aires          | Ecobici              | Serttel Brasil | Bike In Baires Consortium.[10] | 2010             | NA                   | 400 | 4000 | 21917 |\n",
       "| Argentina | Rosario               | Mi Bici Tu Bici[11]  | NA             | NA                             | 2 December 2015  | NA                   | 47  | 480  | NA    |\n",
       "| Australia | Melbourne[12]         | Melbourne Bike Share | PBSC &amp; 8D      | Motivate                       | June 2010        | 30 November 2019[13] | 53  | 676  | NA    |\n",
       "\n"
      ],
      "text/plain": [
       "  COUNTRY   CITY                  NAME                 SYSTEM        \n",
       "1 Albania   Tirana                Ecovolis             NA            \n",
       "2 Argentina Mendoza               Metrobici            NA            \n",
       "3 Argentina San Lorenzo, Santa Fe Biciudad             Biciudad      \n",
       "4 Argentina Buenos Aires          Ecobici              Serttel Brasil\n",
       "5 Argentina Rosario               Mi Bici Tu Bici[11]  NA            \n",
       "6 Australia Melbourne[12]         Melbourne Bike Share PBSC & 8D     \n",
       "  OPERATOR                       LAUNCHED         DISCONTINUED         STATIONS\n",
       "1 NA                             March 2011       NA                   8       \n",
       "2 NA                             2014             NA                   2       \n",
       "3 NA                             27 November 2016 NA                   8       \n",
       "4 Bike In Baires Consortium.[10] 2010             NA                   400     \n",
       "5 NA                             2 December 2015  NA                   47      \n",
       "6 Motivate                       June 2010        30 November 2019[13] 53      \n",
       "  BICYCLES DAILY_RIDERSHIP\n",
       "1 200      NA             \n",
       "2 40       NA             \n",
       "3 80       NA             \n",
       "4 4000     21917          \n",
       "5 480      NA             \n",
       "6 676      NA             "
      ]
     },
     "metadata": {},
     "output_type": "display_data"
    }
   ],
   "source": [
    "# Print its head\n",
    "head(bike_sharing_df)"
   ]
  },
  {
   "cell_type": "markdown",
   "metadata": {},
   "source": [
    "Even from the first few rows, you can see there is plenty of undesireable embedded textual content, such as the reference link included in `Melbourne[12]`.\n"
   ]
  },
  {
   "cell_type": "markdown",
   "metadata": {},
   "source": [
    "In this project, let's only focus on processing the following revelant columns (feel free to process the other columns for more practice):\n",
    " - `COUNTRY`: Country name \n",
    " - `CITY`: City name\n",
    " - `SYSTEM`: Bike-sharing system name\n",
    " - `BICYCLES`: Total number of bikes in the system\n"
   ]
  },
  {
   "cell_type": "code",
   "execution_count": 31,
   "metadata": {
    "tags": []
   },
   "outputs": [],
   "source": [
    "# Select the four columns\n",
    "sub_bike_sharing_df <- bike_sharing_df %>% select(COUNTRY, CITY, SYSTEM, BICYCLES)"
   ]
  },
  {
   "cell_type": "markdown",
   "metadata": {},
   "source": [
    "Let's see the types of the selected columns\n"
   ]
  },
  {
   "cell_type": "code",
   "execution_count": 32,
   "metadata": {
    "tags": []
   },
   "outputs": [
    {
     "data": {
      "text/html": [
       "<table>\n",
       "<caption>A tibble: 4 × 2</caption>\n",
       "<thead>\n",
       "\t<tr><th scope=col>variable</th><th scope=col>class</th></tr>\n",
       "\t<tr><th scope=col>&lt;chr&gt;</th><th scope=col>&lt;chr&gt;</th></tr>\n",
       "</thead>\n",
       "<tbody>\n",
       "\t<tr><td>COUNTRY </td><td>character</td></tr>\n",
       "\t<tr><td>CITY    </td><td>character</td></tr>\n",
       "\t<tr><td>SYSTEM  </td><td>character</td></tr>\n",
       "\t<tr><td>BICYCLES</td><td>character</td></tr>\n",
       "</tbody>\n",
       "</table>\n"
      ],
      "text/latex": [
       "A tibble: 4 × 2\n",
       "\\begin{tabular}{ll}\n",
       " variable & class\\\\\n",
       " <chr> & <chr>\\\\\n",
       "\\hline\n",
       "\t COUNTRY  & character\\\\\n",
       "\t CITY     & character\\\\\n",
       "\t SYSTEM   & character\\\\\n",
       "\t BICYCLES & character\\\\\n",
       "\\end{tabular}\n"
      ],
      "text/markdown": [
       "\n",
       "A tibble: 4 × 2\n",
       "\n",
       "| variable &lt;chr&gt; | class &lt;chr&gt; |\n",
       "|---|---|\n",
       "| COUNTRY  | character |\n",
       "| CITY     | character |\n",
       "| SYSTEM   | character |\n",
       "| BICYCLES | character |\n",
       "\n"
      ],
      "text/plain": [
       "  variable class    \n",
       "1 COUNTRY  character\n",
       "2 CITY     character\n",
       "3 SYSTEM   character\n",
       "4 BICYCLES character"
      ]
     },
     "metadata": {},
     "output_type": "display_data"
    }
   ],
   "source": [
    "sub_bike_sharing_df %>% \n",
    "    summarize_all(class) %>%\n",
    "    gather(variable, class)"
   ]
  },
  {
   "cell_type": "markdown",
   "metadata": {},
   "source": [
    "They are all interpreted as character columns, but we expect the `BICYCLES` column to be of numeric type. Let's see why it wasn't loaded as a numeric column - possibly some entries contain characters. Let's create a simple function called `find_character` to check that.\n"
   ]
  },
  {
   "cell_type": "code",
   "execution_count": 33,
   "metadata": {
    "tags": []
   },
   "outputs": [],
   "source": [
    "# grepl searches a string for non-digital characters, and returns TRUE or FALSE\n",
    "# if it finds any non-digital characters, then the bicyle column is not purely numeric\n",
    "find_character <- function(strings) grepl(\"[^0-9]\", strings)"
   ]
  },
  {
   "cell_type": "markdown",
   "metadata": {},
   "source": [
    "Let's try to find any elements in the `Bicycles` column containing non-numeric characters.\n"
   ]
  },
  {
   "cell_type": "code",
   "execution_count": 34,
   "metadata": {
    "tags": []
   },
   "outputs": [
    {
     "data": {
      "text/html": [
       "<table>\n",
       "<caption>A spec_tbl_df: 10 × 1</caption>\n",
       "<thead>\n",
       "\t<tr><th scope=col>BICYCLES</th></tr>\n",
       "\t<tr><th scope=col>&lt;chr&gt;</th></tr>\n",
       "</thead>\n",
       "<tbody>\n",
       "\t<tr><td>4115[22]                  </td></tr>\n",
       "\t<tr><td>310[59]                   </td></tr>\n",
       "\t<tr><td>500[72]                   </td></tr>\n",
       "\t<tr><td>[75]                      </td></tr>\n",
       "\t<tr><td>180[76]                   </td></tr>\n",
       "\t<tr><td>600[77]                   </td></tr>\n",
       "\t<tr><td>[78]                      </td></tr>\n",
       "\t<tr><td>initially 800 (later 2500)</td></tr>\n",
       "\t<tr><td>100 (220)                 </td></tr>\n",
       "\t<tr><td>370[114]                  </td></tr>\n",
       "</tbody>\n",
       "</table>\n"
      ],
      "text/latex": [
       "A spec\\_tbl\\_df: 10 × 1\n",
       "\\begin{tabular}{l}\n",
       " BICYCLES\\\\\n",
       " <chr>\\\\\n",
       "\\hline\n",
       "\t 4115{[}22{]}                  \\\\\n",
       "\t 310{[}59{]}                   \\\\\n",
       "\t 500{[}72{]}                   \\\\\n",
       "\t {[}75{]}                      \\\\\n",
       "\t 180{[}76{]}                   \\\\\n",
       "\t 600{[}77{]}                   \\\\\n",
       "\t {[}78{]}                      \\\\\n",
       "\t initially 800 (later 2500)\\\\\n",
       "\t 100 (220)                 \\\\\n",
       "\t 370{[}114{]}                  \\\\\n",
       "\\end{tabular}\n"
      ],
      "text/markdown": [
       "\n",
       "A spec_tbl_df: 10 × 1\n",
       "\n",
       "| BICYCLES &lt;chr&gt; |\n",
       "|---|\n",
       "| 4115[22]                   |\n",
       "| 310[59]                    |\n",
       "| 500[72]                    |\n",
       "| [75]                       |\n",
       "| 180[76]                    |\n",
       "| 600[77]                    |\n",
       "| [78]                       |\n",
       "| initially 800 (later 2500) |\n",
       "| 100 (220)                  |\n",
       "| 370[114]                   |\n",
       "\n"
      ],
      "text/plain": [
       "   BICYCLES                  \n",
       "1  4115[22]                  \n",
       "2  310[59]                   \n",
       "3  500[72]                   \n",
       "4  [75]                      \n",
       "5  180[76]                   \n",
       "6  600[77]                   \n",
       "7  [78]                      \n",
       "8  initially 800 (later 2500)\n",
       "9  100 (220)                 \n",
       "10 370[114]                  "
      ]
     },
     "metadata": {},
     "output_type": "display_data"
    }
   ],
   "source": [
    "sub_bike_sharing_df %>% \n",
    "    select(BICYCLES) %>% \n",
    "    filter(find_character(BICYCLES)) %>%\n",
    "    slice(0:10)"
   ]
  },
  {
   "cell_type": "markdown",
   "metadata": {},
   "source": [
    "As you can see, many rows have non-numeric characters, such as `32 (including 6 rollers) [162]` and `1000[253]`. This is actually very common for a table scraped from Wiki when no input validation is enforced. \n",
    "\n",
    "Later, you will use regular expressions to clean them up.\n"
   ]
  },
  {
   "cell_type": "markdown",
   "metadata": {},
   "source": [
    "Next, let's take a look at the other columns, namely `COUNTRY`, `CITY`, and `SYSTEM`, to see if they contain any undesired reference links, such as in `Melbourne[12]`.\n"
   ]
  },
  {
   "cell_type": "code",
   "execution_count": 71,
   "metadata": {
    "tags": []
   },
   "outputs": [],
   "source": [
    "# Define a 'reference link' character class, \n",
    "# `[A-z0-9]` means at least one character \n",
    "# `\\\\[` and `\\\\]` means the character is wrapped by [], such as for [12] or [abc]\n",
    "ref_pattern <- \"\\\\[[A-z0-9]+\\\\]\"\n",
    "find_reference_pattern <- function(strings) grepl(ref_pattern, strings)"
   ]
  },
  {
   "cell_type": "code",
   "execution_count": 36,
   "metadata": {
    "tags": []
   },
   "outputs": [
    {
     "data": {
      "text/html": [
       "<table>\n",
       "<caption>A spec_tbl_df: 0 × 1</caption>\n",
       "<thead>\n",
       "\t<tr><th scope=col>COUNTRY</th></tr>\n",
       "\t<tr><th scope=col>&lt;chr&gt;</th></tr>\n",
       "</thead>\n",
       "<tbody>\n",
       "</tbody>\n",
       "</table>\n"
      ],
      "text/latex": [
       "A spec\\_tbl\\_df: 0 × 1\n",
       "\\begin{tabular}{l}\n",
       " COUNTRY\\\\\n",
       " <chr>\\\\\n",
       "\\hline\n",
       "\\end{tabular}\n"
      ],
      "text/markdown": [
       "\n",
       "A spec_tbl_df: 0 × 1\n",
       "\n",
       "| COUNTRY &lt;chr&gt; |\n",
       "|---|\n",
       "\n"
      ],
      "text/plain": [
       "     COUNTRY"
      ]
     },
     "metadata": {},
     "output_type": "display_data"
    }
   ],
   "source": [
    "# Check whether the COUNTRY column has any reference links\n",
    "sub_bike_sharing_df %>% \n",
    "    select(COUNTRY) %>% \n",
    "    filter(find_reference_pattern(COUNTRY)) %>%\n",
    "    slice(0:10)"
   ]
  },
  {
   "cell_type": "markdown",
   "metadata": {},
   "source": [
    "Ok, looks like the `COUNTRY` column is clean. Let's check the `CITY` column.\n"
   ]
  },
  {
   "cell_type": "code",
   "execution_count": 37,
   "metadata": {
    "tags": []
   },
   "outputs": [
    {
     "data": {
      "text/html": [
       "<table>\n",
       "<caption>A spec_tbl_df: 10 × 1</caption>\n",
       "<thead>\n",
       "\t<tr><th scope=col>CITY</th></tr>\n",
       "\t<tr><th scope=col>&lt;chr&gt;</th></tr>\n",
       "</thead>\n",
       "<tbody>\n",
       "\t<tr><td>Melbourne[12]        </td></tr>\n",
       "\t<tr><td>Brisbane[14][15]     </td></tr>\n",
       "\t<tr><td>Lower Austria[18]    </td></tr>\n",
       "\t<tr><td>Namur[19]            </td></tr>\n",
       "\t<tr><td>Brussels[21]         </td></tr>\n",
       "\t<tr><td>Salvador[23]         </td></tr>\n",
       "\t<tr><td>Belo Horizonte[24]   </td></tr>\n",
       "\t<tr><td>João Pessoa[25]      </td></tr>\n",
       "\t<tr><td>(Pedro de) Toledo[26]</td></tr>\n",
       "\t<tr><td>Rio de Janeiro[27]   </td></tr>\n",
       "</tbody>\n",
       "</table>\n"
      ],
      "text/latex": [
       "A spec\\_tbl\\_df: 10 × 1\n",
       "\\begin{tabular}{l}\n",
       " CITY\\\\\n",
       " <chr>\\\\\n",
       "\\hline\n",
       "\t Melbourne{[}12{]}        \\\\\n",
       "\t Brisbane{[}14{]}{[}15{]}     \\\\\n",
       "\t Lower Austria{[}18{]}    \\\\\n",
       "\t Namur{[}19{]}            \\\\\n",
       "\t Brussels{[}21{]}         \\\\\n",
       "\t Salvador{[}23{]}         \\\\\n",
       "\t Belo Horizonte{[}24{]}   \\\\\n",
       "\t João Pessoa{[}25{]}      \\\\\n",
       "\t (Pedro de) Toledo{[}26{]}\\\\\n",
       "\t Rio de Janeiro{[}27{]}   \\\\\n",
       "\\end{tabular}\n"
      ],
      "text/markdown": [
       "\n",
       "A spec_tbl_df: 10 × 1\n",
       "\n",
       "| CITY &lt;chr&gt; |\n",
       "|---|\n",
       "| Melbourne[12]         |\n",
       "| Brisbane[14][15]      |\n",
       "| Lower Austria[18]     |\n",
       "| Namur[19]             |\n",
       "| Brussels[21]          |\n",
       "| Salvador[23]          |\n",
       "| Belo Horizonte[24]    |\n",
       "| João Pessoa[25]       |\n",
       "| (Pedro de) Toledo[26] |\n",
       "| Rio de Janeiro[27]    |\n",
       "\n"
      ],
      "text/plain": [
       "   CITY                 \n",
       "1  Melbourne[12]        \n",
       "2  Brisbane[14][15]     \n",
       "3  Lower Austria[18]    \n",
       "4  Namur[19]            \n",
       "5  Brussels[21]         \n",
       "6  Salvador[23]         \n",
       "7  Belo Horizonte[24]   \n",
       "8  João Pessoa[25]      \n",
       "9  (Pedro de) Toledo[26]\n",
       "10 Rio de Janeiro[27]   "
      ]
     },
     "metadata": {},
     "output_type": "display_data"
    }
   ],
   "source": [
    "# Check whether the CITY column has any reference links\n",
    "sub_bike_sharing_df %>% \n",
    "    select(CITY) %>% \n",
    "    filter(find_reference_pattern(CITY)) %>%\n",
    "    slice(0:10)"
   ]
  },
  {
   "cell_type": "markdown",
   "metadata": {},
   "source": [
    "Hmm, looks like the `CITY` column has some reference links to be removed. Next, let's check the `SYSTEM` column.\n"
   ]
  },
  {
   "cell_type": "code",
   "execution_count": 38,
   "metadata": {
    "tags": []
   },
   "outputs": [
    {
     "data": {
      "text/html": [
       "<table>\n",
       "<caption>A spec_tbl_df: 7 × 1</caption>\n",
       "<thead>\n",
       "\t<tr><th scope=col>SYSTEM</th></tr>\n",
       "\t<tr><th scope=col>&lt;chr&gt;</th></tr>\n",
       "</thead>\n",
       "<tbody>\n",
       "\t<tr><td>EasyBike[58]                     </td></tr>\n",
       "\t<tr><td>4 Gen.[61]                       </td></tr>\n",
       "\t<tr><td>3 Gen. SmooveKey[113]            </td></tr>\n",
       "\t<tr><td>3 Gen. Smoove[141][142][143][139]</td></tr>\n",
       "\t<tr><td>3 Gen. Smoove[179]               </td></tr>\n",
       "\t<tr><td>3 Gen. Smoove[181]               </td></tr>\n",
       "\t<tr><td>3 Gen. Smoove[183]               </td></tr>\n",
       "</tbody>\n",
       "</table>\n"
      ],
      "text/latex": [
       "A spec\\_tbl\\_df: 7 × 1\n",
       "\\begin{tabular}{l}\n",
       " SYSTEM\\\\\n",
       " <chr>\\\\\n",
       "\\hline\n",
       "\t EasyBike{[}58{]}                     \\\\\n",
       "\t 4 Gen.{[}61{]}                       \\\\\n",
       "\t 3 Gen. SmooveKey{[}113{]}            \\\\\n",
       "\t 3 Gen. Smoove{[}141{]}{[}142{]}{[}143{]}{[}139{]}\\\\\n",
       "\t 3 Gen. Smoove{[}179{]}               \\\\\n",
       "\t 3 Gen. Smoove{[}181{]}               \\\\\n",
       "\t 3 Gen. Smoove{[}183{]}               \\\\\n",
       "\\end{tabular}\n"
      ],
      "text/markdown": [
       "\n",
       "A spec_tbl_df: 7 × 1\n",
       "\n",
       "| SYSTEM &lt;chr&gt; |\n",
       "|---|\n",
       "| EasyBike[58]                      |\n",
       "| 4 Gen.[61]                        |\n",
       "| 3 Gen. SmooveKey[113]             |\n",
       "| 3 Gen. Smoove[141][142][143][139] |\n",
       "| 3 Gen. Smoove[179]                |\n",
       "| 3 Gen. Smoove[181]                |\n",
       "| 3 Gen. Smoove[183]                |\n",
       "\n"
      ],
      "text/plain": [
       "  SYSTEM                           \n",
       "1 EasyBike[58]                     \n",
       "2 4 Gen.[61]                       \n",
       "3 3 Gen. SmooveKey[113]            \n",
       "4 3 Gen. Smoove[141][142][143][139]\n",
       "5 3 Gen. Smoove[179]               \n",
       "6 3 Gen. Smoove[181]               \n",
       "7 3 Gen. Smoove[183]               "
      ]
     },
     "metadata": {},
     "output_type": "display_data"
    }
   ],
   "source": [
    "# Check whether the System column has any reference links\n",
    "sub_bike_sharing_df %>% \n",
    "    select(SYSTEM) %>% \n",
    "    filter(find_reference_pattern(SYSTEM)) %>%\n",
    "    slice(0:10)"
   ]
  },
  {
   "cell_type": "markdown",
   "metadata": {},
   "source": [
    "So the `SYSTEM` column also has some reference links.\n"
   ]
  },
  {
   "cell_type": "markdown",
   "metadata": {},
   "source": [
    "After some preliminary investigations, we identified that the `CITY` and `SYSTEM` columns have some undesired reference links, and the `BICYCLES` column has both reference links and some \n",
    "textual annotations.\n",
    "\n",
    "Next, you need to use regular expressions to clean up the unexpected reference links and text annotations in numeric values.\n"
   ]
  },
  {
   "cell_type": "markdown",
   "metadata": {},
   "source": [
    "# TASK: Remove undesired reference links using regular expressions\n"
   ]
  },
  {
   "cell_type": "markdown",
   "metadata": {},
   "source": [
    "_TODO:_ Write a custom function using `stringr::str_replace_all` to replace all reference links with an empty character for columns `CITY` and `SYSTEM`\n"
   ]
  },
  {
   "cell_type": "code",
   "execution_count": 66,
   "metadata": {
    "tags": []
   },
   "outputs": [],
   "source": [
    "# remove reference link\n",
    "remove_ref <- function(strings) {\n",
    "    ref_pattern <- \"\\\\[[A-z0-9]+\\\\]\"\n",
    "    # Replace all matched substrings with a white space using str_replace_all()\n",
    "    partone <- str_replace_all(strings, ref_pattern, \"\")\n",
    "    # Trim the reslt if you want\n",
    "    result <- str_trim(partone)\n",
    "    return(result)\n",
    "}"
   ]
  },
  {
   "cell_type": "markdown",
   "metadata": {},
   "source": [
    "_TODO:_ Use the `dplyr::mutate()` function to apply the `remove_ref` function to the `CITY` and `SYSTEM` columns\n"
   ]
  },
  {
   "cell_type": "code",
   "execution_count": 69,
   "metadata": {
    "tags": []
   },
   "outputs": [],
   "source": [
    "sub_bike_sharing_df <- sub_bike_sharing_df %>% mutate(CITY = remove_ref(CITY))\n",
    "sub_bike_sharing_df <- sub_bike_sharing_df %>% mutate(SYSTEM = remove_ref(SYSTEM))"
   ]
  },
  {
   "cell_type": "markdown",
   "metadata": {},
   "source": [
    "_TODO:_ Use the following code to check whether all reference links are removed:\n"
   ]
  },
  {
   "cell_type": "code",
   "execution_count": 73,
   "metadata": {
    "tags": []
   },
   "outputs": [
    {
     "data": {
      "text/html": [
       "<table>\n",
       "<caption>A spec_tbl_df: 480 × 4</caption>\n",
       "<thead>\n",
       "\t<tr><th scope=col>COUNTRY</th><th scope=col>CITY</th><th scope=col>SYSTEM</th><th scope=col>BICYCLES</th></tr>\n",
       "\t<tr><th scope=col>&lt;chr&gt;</th><th scope=col>&lt;chr&gt;</th><th scope=col>&lt;chr&gt;</th><th scope=col>&lt;chr&gt;</th></tr>\n",
       "</thead>\n",
       "<tbody>\n",
       "\t<tr><td>Albania   </td><td>Tirana               </td><td>NA              </td><td>200     </td></tr>\n",
       "\t<tr><td>Argentina </td><td>Mendoza              </td><td>NA              </td><td>40      </td></tr>\n",
       "\t<tr><td>Argentina </td><td>San Lorenzo, Santa Fe</td><td>Biciudad        </td><td>80      </td></tr>\n",
       "\t<tr><td>Argentina </td><td>Buenos Aires         </td><td>Serttel Brasil  </td><td>4000    </td></tr>\n",
       "\t<tr><td>Argentina </td><td>Rosario              </td><td>NA              </td><td>480     </td></tr>\n",
       "\t<tr><td>Australia </td><td><span style=white-space:pre-wrap>Melbourne            </span></td><td><span style=white-space:pre-wrap>PBSC &amp; 8D       </span></td><td><span style=white-space:pre-wrap>676     </span></td></tr>\n",
       "\t<tr><td>Australia </td><td>Brisbane             </td><td>3 Gen. Cyclocity</td><td>2000    </td></tr>\n",
       "\t<tr><td>Australia </td><td>Melbourne            </td><td>4 Gen. oBike    </td><td>1250    </td></tr>\n",
       "\t<tr><td>Australia </td><td>Sydney               </td><td>4 Gen. oBike    </td><td>1250    </td></tr>\n",
       "\t<tr><td>Australia </td><td>Sydney               </td><td>4 Gen. Ofo      </td><td>600     </td></tr>\n",
       "\t<tr><td>Australia </td><td>Sydney               </td><td>Reddy Go        </td><td>2000    </td></tr>\n",
       "\t<tr><td>Austria   </td><td>Vienna               </td><td>3 Gen. Cyclocity</td><td>1500    </td></tr>\n",
       "\t<tr><td>Austria   </td><td>Burgenland           </td><td>3 Gen. nextbike </td><td>NA      </td></tr>\n",
       "\t<tr><td>Austria   </td><td>Lower Austria        </td><td>3 Gen. nextbike </td><td>1300    </td></tr>\n",
       "\t<tr><td>Austria   </td><td>Salzburg             </td><td>3 Gen. nextbike </td><td>NA      </td></tr>\n",
       "\t<tr><td>Austria   </td><td>Vienna               </td><td>2 Gen.          </td><td>1500    </td></tr>\n",
       "\t<tr><td>Austria   </td><td>Vorarlberg           </td><td>3 Gen. nextbike </td><td>70      </td></tr>\n",
       "\t<tr><td>Bangladesh</td><td>Dhaka                </td><td>JoBike          </td><td>300     </td></tr>\n",
       "\t<tr><td>Belgium   </td><td>Namur                </td><td>3 Gen. Cyclocity</td><td>200     </td></tr>\n",
       "\t<tr><td>Belgium   </td><td>Antwerp              </td><td>3 Gen. Clear CC </td><td>3600    </td></tr>\n",
       "\t<tr><td>Belgium   </td><td>Brussels             </td><td>3 Gen. Cyclocity</td><td>4115[22]</td></tr>\n",
       "\t<tr><td>Brazil    </td><td>Salvador             </td><td>tembici         </td><td>NA      </td></tr>\n",
       "\t<tr><td>Brazil    </td><td>Belo Horizonte       </td><td>Mobilicidade    </td><td>400     </td></tr>\n",
       "\t<tr><td>Brazil    </td><td>Fortaleza            </td><td>Mobilicidade    </td><td>800     </td></tr>\n",
       "\t<tr><td>Brazil    </td><td>João Pessoa          </td><td>Mobilicidade    </td><td>20      </td></tr>\n",
       "\t<tr><td>Brazil    </td><td>(Pedro de) Toledo    </td><td>Toopedalando    </td><td>60      </td></tr>\n",
       "\t<tr><td>Brazil    </td><td>Rio de Janeiro       </td><td>tembici         </td><td>300     </td></tr>\n",
       "\t<tr><td>Brazil    </td><td>São Paulo            </td><td>tembici         </td><td>600     </td></tr>\n",
       "\t<tr><td>Brazil    </td><td>Sorocaba             </td><td>tembici         </td><td>120     </td></tr>\n",
       "\t<tr><td>Bulgaria  </td><td>Burgas               </td><td>Mobilicidade    </td><td>120     </td></tr>\n",
       "\t<tr><td>⋮</td><td>⋮</td><td>⋮</td><td>⋮</td></tr>\n",
       "\t<tr><td>United States</td><td>Fullerton, California                           </td><td>Bike Nation                        </td><td>75  </td></tr>\n",
       "\t<tr><td>United States</td><td>Hoboken, New Jersey                             </td><td>3 Gen. nextbike                    </td><td>250 </td></tr>\n",
       "\t<tr><td>United States</td><td>Houston, Texas                                  </td><td>3 Gen. B-Cycle                     </td><td>400 </td></tr>\n",
       "\t<tr><td>United States</td><td>Jersey City                                     </td><td>8D                                 </td><td>500 </td></tr>\n",
       "\t<tr><td>United States</td><td>Kailua, Hawaii                                  </td><td>3 Gen. B-Cycle                     </td><td>12  </td></tr>\n",
       "\t<tr><td>United States</td><td>Kansas City, Missouri                           </td><td>3 Gen. B-Cycle                     </td><td>300 </td></tr>\n",
       "\t<tr><td>United States</td><td>Kona District, Hawaii                           </td><td>PBSC                               </td><td>30  </td></tr>\n",
       "\t<tr><td>United States</td><td>Lansing, MI                                     </td><td>A2B Bikeshare                      </td><td>20  </td></tr>\n",
       "\t<tr><td>United States</td><td>Lincoln, Nebraska                               </td><td>3 Gen. B-Cycle                     </td><td>100 </td></tr>\n",
       "\t<tr><td>United States</td><td>Los Angeles                                     </td><td>3 Gen. B-Cycle                     </td><td>1000</td></tr>\n",
       "\t<tr><td>United States</td><td>Madison, Wisconsin                              </td><td>3 Gen. B-Cycle                     </td><td>350 </td></tr>\n",
       "\t<tr><td>United States</td><td>Milwaukee, Wisconsin                            </td><td>3 Gen. B-Cycle                     </td><td>400+</td></tr>\n",
       "\t<tr><td>United States</td><td>Minneapolis, Minnesota and Saint Paul, Minnesota</td><td><span style=white-space:pre-wrap>PBSC &amp; 8D                          </span></td><td>1833</td></tr>\n",
       "\t<tr><td>United States</td><td>Oklahoma City, Oklahoma                         </td><td>Spokies                            </td><td>100 </td></tr>\n",
       "\t<tr><td>United States</td><td>Omaha, Nebraska                                 </td><td>3 Gen. B-Cycle                     </td><td>35  </td></tr>\n",
       "\t<tr><td>United States</td><td>Philadelphia, Pennsylvania                      </td><td>3 Gen. B-Cycle                     </td><td>1000</td></tr>\n",
       "\t<tr><td>United States</td><td>Phoenix, Arizona                                </td><td>3 Gen. CycleHop and Social Bicycles</td><td>500 </td></tr>\n",
       "\t<tr><td>United States</td><td>Pittsburgh, Pennsylvania                        </td><td>3 Gen. nextbike                    </td><td>500 </td></tr>\n",
       "\t<tr><td>United States</td><td>Portland, Oregon                                </td><td>NA                                 </td><td>1000</td></tr>\n",
       "\t<tr><td>United States</td><td>Portland, Oregon                                </td><td>1 Gen. WhiteBikes                  </td><td>1000</td></tr>\n",
       "\t<tr><td>United States</td><td>Salt Lake City, Utah                            </td><td>3 Gen. B-Cycle                     </td><td>100 </td></tr>\n",
       "\t<tr><td>United States</td><td>San Antonio, Texas                              </td><td>3 Gen. B-Cycle                     </td><td>600 </td></tr>\n",
       "\t<tr><td>United States</td><td>San Diego                                       </td><td>DecoBike                           </td><td>1800</td></tr>\n",
       "\t<tr><td>United States</td><td>San Francisco Bay Area                          </td><td>NA                                 </td><td>NA  </td></tr>\n",
       "\t<tr><td>United States</td><td>San Francisco Bay Area                          </td><td>8D                                 </td><td>7000</td></tr>\n",
       "\t<tr><td>United States</td><td>Santa Monica, California                        </td><td>3 Gen. CycleHop and Social Bicycles</td><td>500 </td></tr>\n",
       "\t<tr><td>United States</td><td>Savannah, Georgia                               </td><td>3 Gen. B-Cycle                     </td><td>16  </td></tr>\n",
       "\t<tr><td>United States</td><td>Seattle, Washington                             </td><td>8D                                 </td><td>500 </td></tr>\n",
       "\t<tr><td>United States</td><td>Spartanburg, South Carolina                     </td><td>3 Gen. B-Cycle                     </td><td>40  </td></tr>\n",
       "\t<tr><td>United States</td><td>St. Paul                                        </td><td>1 Gen. w/ BikeCard                 </td><td>NA  </td></tr>\n",
       "</tbody>\n",
       "</table>\n"
      ],
      "text/latex": [
       "A spec\\_tbl\\_df: 480 × 4\n",
       "\\begin{tabular}{llll}\n",
       " COUNTRY & CITY & SYSTEM & BICYCLES\\\\\n",
       " <chr> & <chr> & <chr> & <chr>\\\\\n",
       "\\hline\n",
       "\t Albania    & Tirana                & NA               & 200     \\\\\n",
       "\t Argentina  & Mendoza               & NA               & 40      \\\\\n",
       "\t Argentina  & San Lorenzo, Santa Fe & Biciudad         & 80      \\\\\n",
       "\t Argentina  & Buenos Aires          & Serttel Brasil   & 4000    \\\\\n",
       "\t Argentina  & Rosario               & NA               & 480     \\\\\n",
       "\t Australia  & Melbourne             & PBSC \\& 8D        & 676     \\\\\n",
       "\t Australia  & Brisbane              & 3 Gen. Cyclocity & 2000    \\\\\n",
       "\t Australia  & Melbourne             & 4 Gen. oBike     & 1250    \\\\\n",
       "\t Australia  & Sydney                & 4 Gen. oBike     & 1250    \\\\\n",
       "\t Australia  & Sydney                & 4 Gen. Ofo       & 600     \\\\\n",
       "\t Australia  & Sydney                & Reddy Go         & 2000    \\\\\n",
       "\t Austria    & Vienna                & 3 Gen. Cyclocity & 1500    \\\\\n",
       "\t Austria    & Burgenland            & 3 Gen. nextbike  & NA      \\\\\n",
       "\t Austria    & Lower Austria         & 3 Gen. nextbike  & 1300    \\\\\n",
       "\t Austria    & Salzburg              & 3 Gen. nextbike  & NA      \\\\\n",
       "\t Austria    & Vienna                & 2 Gen.           & 1500    \\\\\n",
       "\t Austria    & Vorarlberg            & 3 Gen. nextbike  & 70      \\\\\n",
       "\t Bangladesh & Dhaka                 & JoBike           & 300     \\\\\n",
       "\t Belgium    & Namur                 & 3 Gen. Cyclocity & 200     \\\\\n",
       "\t Belgium    & Antwerp               & 3 Gen. Clear CC  & 3600    \\\\\n",
       "\t Belgium    & Brussels              & 3 Gen. Cyclocity & 4115{[}22{]}\\\\\n",
       "\t Brazil     & Salvador              & tembici          & NA      \\\\\n",
       "\t Brazil     & Belo Horizonte        & Mobilicidade     & 400     \\\\\n",
       "\t Brazil     & Fortaleza             & Mobilicidade     & 800     \\\\\n",
       "\t Brazil     & João Pessoa           & Mobilicidade     & 20      \\\\\n",
       "\t Brazil     & (Pedro de) Toledo     & Toopedalando     & 60      \\\\\n",
       "\t Brazil     & Rio de Janeiro        & tembici          & 300     \\\\\n",
       "\t Brazil     & São Paulo             & tembici          & 600     \\\\\n",
       "\t Brazil     & Sorocaba              & tembici          & 120     \\\\\n",
       "\t Bulgaria   & Burgas                & Mobilicidade     & 120     \\\\\n",
       "\t ⋮ & ⋮ & ⋮ & ⋮\\\\\n",
       "\t United States & Fullerton, California                            & Bike Nation                         & 75  \\\\\n",
       "\t United States & Hoboken, New Jersey                              & 3 Gen. nextbike                     & 250 \\\\\n",
       "\t United States & Houston, Texas                                   & 3 Gen. B-Cycle                      & 400 \\\\\n",
       "\t United States & Jersey City                                      & 8D                                  & 500 \\\\\n",
       "\t United States & Kailua, Hawaii                                   & 3 Gen. B-Cycle                      & 12  \\\\\n",
       "\t United States & Kansas City, Missouri                            & 3 Gen. B-Cycle                      & 300 \\\\\n",
       "\t United States & Kona District, Hawaii                            & PBSC                                & 30  \\\\\n",
       "\t United States & Lansing, MI                                      & A2B Bikeshare                       & 20  \\\\\n",
       "\t United States & Lincoln, Nebraska                                & 3 Gen. B-Cycle                      & 100 \\\\\n",
       "\t United States & Los Angeles                                      & 3 Gen. B-Cycle                      & 1000\\\\\n",
       "\t United States & Madison, Wisconsin                               & 3 Gen. B-Cycle                      & 350 \\\\\n",
       "\t United States & Milwaukee, Wisconsin                             & 3 Gen. B-Cycle                      & 400+\\\\\n",
       "\t United States & Minneapolis, Minnesota and Saint Paul, Minnesota & PBSC \\& 8D                           & 1833\\\\\n",
       "\t United States & Oklahoma City, Oklahoma                          & Spokies                             & 100 \\\\\n",
       "\t United States & Omaha, Nebraska                                  & 3 Gen. B-Cycle                      & 35  \\\\\n",
       "\t United States & Philadelphia, Pennsylvania                       & 3 Gen. B-Cycle                      & 1000\\\\\n",
       "\t United States & Phoenix, Arizona                                 & 3 Gen. CycleHop and Social Bicycles & 500 \\\\\n",
       "\t United States & Pittsburgh, Pennsylvania                         & 3 Gen. nextbike                     & 500 \\\\\n",
       "\t United States & Portland, Oregon                                 & NA                                  & 1000\\\\\n",
       "\t United States & Portland, Oregon                                 & 1 Gen. WhiteBikes                   & 1000\\\\\n",
       "\t United States & Salt Lake City, Utah                             & 3 Gen. B-Cycle                      & 100 \\\\\n",
       "\t United States & San Antonio, Texas                               & 3 Gen. B-Cycle                      & 600 \\\\\n",
       "\t United States & San Diego                                        & DecoBike                            & 1800\\\\\n",
       "\t United States & San Francisco Bay Area                           & NA                                  & NA  \\\\\n",
       "\t United States & San Francisco Bay Area                           & 8D                                  & 7000\\\\\n",
       "\t United States & Santa Monica, California                         & 3 Gen. CycleHop and Social Bicycles & 500 \\\\\n",
       "\t United States & Savannah, Georgia                                & 3 Gen. B-Cycle                      & 16  \\\\\n",
       "\t United States & Seattle, Washington                              & 8D                                  & 500 \\\\\n",
       "\t United States & Spartanburg, South Carolina                      & 3 Gen. B-Cycle                      & 40  \\\\\n",
       "\t United States & St. Paul                                         & 1 Gen. w/ BikeCard                  & NA  \\\\\n",
       "\\end{tabular}\n"
      ],
      "text/markdown": [
       "\n",
       "A spec_tbl_df: 480 × 4\n",
       "\n",
       "| COUNTRY &lt;chr&gt; | CITY &lt;chr&gt; | SYSTEM &lt;chr&gt; | BICYCLES &lt;chr&gt; |\n",
       "|---|---|---|---|\n",
       "| Albania    | Tirana                | NA               | 200      |\n",
       "| Argentina  | Mendoza               | NA               | 40       |\n",
       "| Argentina  | San Lorenzo, Santa Fe | Biciudad         | 80       |\n",
       "| Argentina  | Buenos Aires          | Serttel Brasil   | 4000     |\n",
       "| Argentina  | Rosario               | NA               | 480      |\n",
       "| Australia  | Melbourne             | PBSC &amp; 8D        | 676      |\n",
       "| Australia  | Brisbane              | 3 Gen. Cyclocity | 2000     |\n",
       "| Australia  | Melbourne             | 4 Gen. oBike     | 1250     |\n",
       "| Australia  | Sydney                | 4 Gen. oBike     | 1250     |\n",
       "| Australia  | Sydney                | 4 Gen. Ofo       | 600      |\n",
       "| Australia  | Sydney                | Reddy Go         | 2000     |\n",
       "| Austria    | Vienna                | 3 Gen. Cyclocity | 1500     |\n",
       "| Austria    | Burgenland            | 3 Gen. nextbike  | NA       |\n",
       "| Austria    | Lower Austria         | 3 Gen. nextbike  | 1300     |\n",
       "| Austria    | Salzburg              | 3 Gen. nextbike  | NA       |\n",
       "| Austria    | Vienna                | 2 Gen.           | 1500     |\n",
       "| Austria    | Vorarlberg            | 3 Gen. nextbike  | 70       |\n",
       "| Bangladesh | Dhaka                 | JoBike           | 300      |\n",
       "| Belgium    | Namur                 | 3 Gen. Cyclocity | 200      |\n",
       "| Belgium    | Antwerp               | 3 Gen. Clear CC  | 3600     |\n",
       "| Belgium    | Brussels              | 3 Gen. Cyclocity | 4115[22] |\n",
       "| Brazil     | Salvador              | tembici          | NA       |\n",
       "| Brazil     | Belo Horizonte        | Mobilicidade     | 400      |\n",
       "| Brazil     | Fortaleza             | Mobilicidade     | 800      |\n",
       "| Brazil     | João Pessoa           | Mobilicidade     | 20       |\n",
       "| Brazil     | (Pedro de) Toledo     | Toopedalando     | 60       |\n",
       "| Brazil     | Rio de Janeiro        | tembici          | 300      |\n",
       "| Brazil     | São Paulo             | tembici          | 600      |\n",
       "| Brazil     | Sorocaba              | tembici          | 120      |\n",
       "| Bulgaria   | Burgas                | Mobilicidade     | 120      |\n",
       "| ⋮ | ⋮ | ⋮ | ⋮ |\n",
       "| United States | Fullerton, California                            | Bike Nation                         | 75   |\n",
       "| United States | Hoboken, New Jersey                              | 3 Gen. nextbike                     | 250  |\n",
       "| United States | Houston, Texas                                   | 3 Gen. B-Cycle                      | 400  |\n",
       "| United States | Jersey City                                      | 8D                                  | 500  |\n",
       "| United States | Kailua, Hawaii                                   | 3 Gen. B-Cycle                      | 12   |\n",
       "| United States | Kansas City, Missouri                            | 3 Gen. B-Cycle                      | 300  |\n",
       "| United States | Kona District, Hawaii                            | PBSC                                | 30   |\n",
       "| United States | Lansing, MI                                      | A2B Bikeshare                       | 20   |\n",
       "| United States | Lincoln, Nebraska                                | 3 Gen. B-Cycle                      | 100  |\n",
       "| United States | Los Angeles                                      | 3 Gen. B-Cycle                      | 1000 |\n",
       "| United States | Madison, Wisconsin                               | 3 Gen. B-Cycle                      | 350  |\n",
       "| United States | Milwaukee, Wisconsin                             | 3 Gen. B-Cycle                      | 400+ |\n",
       "| United States | Minneapolis, Minnesota and Saint Paul, Minnesota | PBSC &amp; 8D                           | 1833 |\n",
       "| United States | Oklahoma City, Oklahoma                          | Spokies                             | 100  |\n",
       "| United States | Omaha, Nebraska                                  | 3 Gen. B-Cycle                      | 35   |\n",
       "| United States | Philadelphia, Pennsylvania                       | 3 Gen. B-Cycle                      | 1000 |\n",
       "| United States | Phoenix, Arizona                                 | 3 Gen. CycleHop and Social Bicycles | 500  |\n",
       "| United States | Pittsburgh, Pennsylvania                         | 3 Gen. nextbike                     | 500  |\n",
       "| United States | Portland, Oregon                                 | NA                                  | 1000 |\n",
       "| United States | Portland, Oregon                                 | 1 Gen. WhiteBikes                   | 1000 |\n",
       "| United States | Salt Lake City, Utah                             | 3 Gen. B-Cycle                      | 100  |\n",
       "| United States | San Antonio, Texas                               | 3 Gen. B-Cycle                      | 600  |\n",
       "| United States | San Diego                                        | DecoBike                            | 1800 |\n",
       "| United States | San Francisco Bay Area                           | NA                                  | NA   |\n",
       "| United States | San Francisco Bay Area                           | 8D                                  | 7000 |\n",
       "| United States | Santa Monica, California                         | 3 Gen. CycleHop and Social Bicycles | 500  |\n",
       "| United States | Savannah, Georgia                                | 3 Gen. B-Cycle                      | 16   |\n",
       "| United States | Seattle, Washington                              | 8D                                  | 500  |\n",
       "| United States | Spartanburg, South Carolina                      | 3 Gen. B-Cycle                      | 40   |\n",
       "| United States | St. Paul                                         | 1 Gen. w/ BikeCard                  | NA   |\n",
       "\n"
      ],
      "text/plain": [
       "    COUNTRY       CITY                                            \n",
       "1   Albania       Tirana                                          \n",
       "2   Argentina     Mendoza                                         \n",
       "3   Argentina     San Lorenzo, Santa Fe                           \n",
       "4   Argentina     Buenos Aires                                    \n",
       "5   Argentina     Rosario                                         \n",
       "6   Australia     Melbourne                                       \n",
       "7   Australia     Brisbane                                        \n",
       "8   Australia     Melbourne                                       \n",
       "9   Australia     Sydney                                          \n",
       "10  Australia     Sydney                                          \n",
       "11  Australia     Sydney                                          \n",
       "12  Austria       Vienna                                          \n",
       "13  Austria       Burgenland                                      \n",
       "14  Austria       Lower Austria                                   \n",
       "15  Austria       Salzburg                                        \n",
       "16  Austria       Vienna                                          \n",
       "17  Austria       Vorarlberg                                      \n",
       "18  Bangladesh    Dhaka                                           \n",
       "19  Belgium       Namur                                           \n",
       "20  Belgium       Antwerp                                         \n",
       "21  Belgium       Brussels                                        \n",
       "22  Brazil        Salvador                                        \n",
       "23  Brazil        Belo Horizonte                                  \n",
       "24  Brazil        Fortaleza                                       \n",
       "25  Brazil        João Pessoa                                     \n",
       "26  Brazil        (Pedro de) Toledo                               \n",
       "27  Brazil        Rio de Janeiro                                  \n",
       "28  Brazil        São Paulo                                       \n",
       "29  Brazil        Sorocaba                                        \n",
       "30  Bulgaria      Burgas                                          \n",
       "⋮   ⋮             ⋮                                               \n",
       "451 United States Fullerton, California                           \n",
       "452 United States Hoboken, New Jersey                             \n",
       "453 United States Houston, Texas                                  \n",
       "454 United States Jersey City                                     \n",
       "455 United States Kailua, Hawaii                                  \n",
       "456 United States Kansas City, Missouri                           \n",
       "457 United States Kona District, Hawaii                           \n",
       "458 United States Lansing, MI                                     \n",
       "459 United States Lincoln, Nebraska                               \n",
       "460 United States Los Angeles                                     \n",
       "461 United States Madison, Wisconsin                              \n",
       "462 United States Milwaukee, Wisconsin                            \n",
       "463 United States Minneapolis, Minnesota and Saint Paul, Minnesota\n",
       "464 United States Oklahoma City, Oklahoma                         \n",
       "465 United States Omaha, Nebraska                                 \n",
       "466 United States Philadelphia, Pennsylvania                      \n",
       "467 United States Phoenix, Arizona                                \n",
       "468 United States Pittsburgh, Pennsylvania                        \n",
       "469 United States Portland, Oregon                                \n",
       "470 United States Portland, Oregon                                \n",
       "471 United States Salt Lake City, Utah                            \n",
       "472 United States San Antonio, Texas                              \n",
       "473 United States San Diego                                       \n",
       "474 United States San Francisco Bay Area                          \n",
       "475 United States San Francisco Bay Area                          \n",
       "476 United States Santa Monica, California                        \n",
       "477 United States Savannah, Georgia                               \n",
       "478 United States Seattle, Washington                             \n",
       "479 United States Spartanburg, South Carolina                     \n",
       "480 United States St. Paul                                        \n",
       "    SYSTEM                              BICYCLES\n",
       "1   NA                                  200     \n",
       "2   NA                                  40      \n",
       "3   Biciudad                            80      \n",
       "4   Serttel Brasil                      4000    \n",
       "5   NA                                  480     \n",
       "6   PBSC & 8D                           676     \n",
       "7   3 Gen. Cyclocity                    2000    \n",
       "8   4 Gen. oBike                        1250    \n",
       "9   4 Gen. oBike                        1250    \n",
       "10  4 Gen. Ofo                          600     \n",
       "11  Reddy Go                            2000    \n",
       "12  3 Gen. Cyclocity                    1500    \n",
       "13  3 Gen. nextbike                     NA      \n",
       "14  3 Gen. nextbike                     1300    \n",
       "15  3 Gen. nextbike                     NA      \n",
       "16  2 Gen.                              1500    \n",
       "17  3 Gen. nextbike                     70      \n",
       "18  JoBike                              300     \n",
       "19  3 Gen. Cyclocity                    200     \n",
       "20  3 Gen. Clear CC                     3600    \n",
       "21  3 Gen. Cyclocity                    4115[22]\n",
       "22  tembici                             NA      \n",
       "23  Mobilicidade                        400     \n",
       "24  Mobilicidade                        800     \n",
       "25  Mobilicidade                        20      \n",
       "26  Toopedalando                        60      \n",
       "27  tembici                             300     \n",
       "28  tembici                             600     \n",
       "29  tembici                             120     \n",
       "30  Mobilicidade                        120     \n",
       "⋮   ⋮                                   ⋮       \n",
       "451 Bike Nation                         75      \n",
       "452 3 Gen. nextbike                     250     \n",
       "453 3 Gen. B-Cycle                      400     \n",
       "454 8D                                  500     \n",
       "455 3 Gen. B-Cycle                      12      \n",
       "456 3 Gen. B-Cycle                      300     \n",
       "457 PBSC                                30      \n",
       "458 A2B Bikeshare                       20      \n",
       "459 3 Gen. B-Cycle                      100     \n",
       "460 3 Gen. B-Cycle                      1000    \n",
       "461 3 Gen. B-Cycle                      350     \n",
       "462 3 Gen. B-Cycle                      400+    \n",
       "463 PBSC & 8D                           1833    \n",
       "464 Spokies                             100     \n",
       "465 3 Gen. B-Cycle                      35      \n",
       "466 3 Gen. B-Cycle                      1000    \n",
       "467 3 Gen. CycleHop and Social Bicycles 500     \n",
       "468 3 Gen. nextbike                     500     \n",
       "469 NA                                  1000    \n",
       "470 1 Gen. WhiteBikes                   1000    \n",
       "471 3 Gen. B-Cycle                      100     \n",
       "472 3 Gen. B-Cycle                      600     \n",
       "473 DecoBike                            1800    \n",
       "474 NA                                  NA      \n",
       "475 8D                                  7000    \n",
       "476 3 Gen. CycleHop and Social Bicycles 500     \n",
       "477 3 Gen. B-Cycle                      16      \n",
       "478 8D                                  500     \n",
       "479 3 Gen. B-Cycle                      40      \n",
       "480 1 Gen. w/ BikeCard                  NA      "
      ]
     },
     "metadata": {},
     "output_type": "display_data"
    }
   ],
   "source": [
    "sub_bike_sharing_df"
   ]
  },
  {
   "cell_type": "code",
   "execution_count": 72,
   "metadata": {
    "tags": []
   },
   "outputs": [
    {
     "ename": "ERROR",
     "evalue": "Error in eval(lhs, parent, parent): object 'result' not found\n",
     "execution_count": 72,
     "output_type": "error",
     "traceback": [
      "Error in eval(lhs, parent, parent): object 'result' not found\nTraceback:\n",
      "1. result %>% select(CITY, SYSTEM, BICYCLES) %>% filter(find_reference_pattern(CITY) | \n .     find_reference_pattern(SYSTEM) | find_reference_pattern(BICYCLES))",
      "2. eval(lhs, parent, parent)",
      "3. eval(lhs, parent, parent)"
     ]
    }
   ],
   "source": [
    "result %>% \n",
    "    select(CITY, SYSTEM, BICYCLES) %>% \n",
    "    filter(find_reference_pattern(CITY) | find_reference_pattern(SYSTEM) | find_reference_pattern(BICYCLES))"
   ]
  },
  {
   "cell_type": "markdown",
   "metadata": {},
   "source": [
    "# TASK: Extract the numeric value using regular expressions\n"
   ]
  },
  {
   "cell_type": "markdown",
   "metadata": {},
   "source": [
    "_TODO:_ Write a custom function using `stringr::str_extract` to extract the first digital substring match and convert it into numeric type For example, extract the value '32' from `32 (including 6 rollers) [162]`.\n"
   ]
  },
  {
   "cell_type": "code",
   "execution_count": 86,
   "metadata": {
    "tags": []
   },
   "outputs": [],
   "source": [
    "# Extract the first number\n",
    "extract_num <- function(columns){\n",
    "    # Define a digital pattern\n",
    "    digital_pattern <- \"[0-9]+\"\n",
    "    # Find the first match using str_extract\n",
    "    match <- str_extract(columns, digital_pattern)\n",
    "    # Convert the result to numeric using the as.numeric() function\n",
    "    return(as.numeric(match))\n",
    "}"
   ]
  },
  {
   "cell_type": "markdown",
   "metadata": {},
   "source": [
    "_TODO:_ Use the `dplyr::mutate()` function to apply `extract_num` on the `BICYCLES` column\n"
   ]
  },
  {
   "cell_type": "code",
   "execution_count": 87,
   "metadata": {
    "tags": []
   },
   "outputs": [
    {
     "data": {
      "text/html": [
       "21124"
      ],
      "text/latex": [
       "21124"
      ],
      "text/markdown": [
       "21124"
      ],
      "text/plain": [
       "[1] 21124"
      ]
     },
     "metadata": {},
     "output_type": "display_data"
    }
   ],
   "source": [
    "extract_num(\"21124 [23]\")"
   ]
  },
  {
   "cell_type": "code",
   "execution_count": 89,
   "metadata": {
    "tags": []
   },
   "outputs": [],
   "source": [
    "# Use the mutate() function on the BICYCLES column\n",
    "sub_bike_sharing_df <- sub_bike_sharing_df %>% mutate(BICYCLES = extract_num(BICYCLES))"
   ]
  },
  {
   "cell_type": "markdown",
   "metadata": {},
   "source": [
    "_TODO:_ Use the summary function to check the descriptive statistics of the numeric `BICYCLES` column\n"
   ]
  },
  {
   "cell_type": "code",
   "execution_count": 91,
   "metadata": {
    "tags": []
   },
   "outputs": [
    {
     "data": {
      "text/plain": [
       "   Min. 1st Qu.  Median    Mean 3rd Qu.    Max.    NA's \n",
       "      5     100     343    2012    1400   78000      76 "
      ]
     },
     "metadata": {},
     "output_type": "display_data"
    }
   ],
   "source": [
    "summary(sub_bike_sharing_df$BICYCLES)"
   ]
  },
  {
   "cell_type": "markdown",
   "metadata": {},
   "source": [
    "_TODO:_ Write the cleaned bike-sharing systems dataset into a csv file called `bike_sharing_systems.csv`\n"
   ]
  },
  {
   "cell_type": "code",
   "execution_count": 92,
   "metadata": {
    "tags": []
   },
   "outputs": [],
   "source": [
    "# Write dataset to `bike_sharing_systems.csv`\n",
    "write.csv(sub_bike_sharing_df, \"bike_sharing_systems.csv\")"
   ]
  },
  {
   "cell_type": "markdown",
   "metadata": {},
   "source": [
    "# References:\n"
   ]
  },
  {
   "cell_type": "markdown",
   "metadata": {},
   "source": [
    "If you need to refresh your memory about regular expressions, please refer to this good Regular Expression cheat sheet:\n",
    "\n",
    "<a href=\"https://www.rstudio.com/wp-content/uploads/2016/09/RegExCheatsheet.pdf?utm_medium=Exinfluencer&utm_source=Exinfluencer&utm_content=000026UJ&utm_term=10006555&utm_id=NA-SkillsNetwork-Channel-SkillsNetworkCoursesIBMDeveloperSkillsNetworkRP0321ENSkillsNetwork878-2022-01-01\" target=\"_blank\">Basic Regular Expressions in R</a>\n"
   ]
  },
  {
   "cell_type": "markdown",
   "metadata": {},
   "source": [
    "# Next Steps\n"
   ]
  },
  {
   "cell_type": "markdown",
   "metadata": {},
   "source": [
    "Great! Now you have cleaned up the bike-sharing system dataset using regular expressions. Next, you will use other `tidyverse` functions to perform data wrangling on the bike-sharing demand dataset.\n"
   ]
  },
  {
   "cell_type": "markdown",
   "metadata": {},
   "source": [
    "## Authors\n",
    "\n",
    "<a href=\"https://www.linkedin.com/in/yan-luo-96288783/?utm_medium=Exinfluencer&utm_source=Exinfluencer&utm_content=000026UJ&utm_term=10006555&utm_id=NA-SkillsNetwork-Channel-SkillsNetworkCoursesIBMDeveloperSkillsNetworkRP0321ENSkillsNetwork878-2022-01-01\" target=\"_blank\">Yan Luo</a>\n"
   ]
  },
  {
   "cell_type": "markdown",
   "metadata": {},
   "source": [
    "### Other Contributors\n",
    "\n",
    "Jeff Grossman\n"
   ]
  },
  {
   "cell_type": "markdown",
   "metadata": {},
   "source": [
    "## Change Log\n",
    "\n",
    "| Date (YYYY-MM-DD) | Version | Changed By | Change Description           |\n",
    "| ----------------- | ------- | ---------- | ---------------------------- |\n",
    "| 2021-04-08        | 1.0     | Yan        | Initial version created      |\n",
    "|                   |         |            |                              |\n",
    "|                   |         |            |                              |\n",
    "\n",
    "## <h3 align=\"center\"> © IBM Corporation 2021. All rights reserved. <h3/>\n"
   ]
  }
 ],
 "metadata": {
  "kernelspec": {
   "display_name": "R",
   "language": "R",
   "name": "conda-env-r-r"
  },
  "language_info": {
   "codemirror_mode": "r",
   "file_extension": ".r",
   "mimetype": "text/x-r-source",
   "name": "R",
   "pygments_lexer": "r",
   "version": "3.5.1"
  }
 },
 "nbformat": 4,
 "nbformat_minor": 4
}

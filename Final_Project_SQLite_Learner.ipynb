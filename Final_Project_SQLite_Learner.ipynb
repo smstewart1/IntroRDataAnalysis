{
 "cells": [
  {
   "cell_type": "markdown",
   "metadata": {},
   "source": [
    "<center>\n",
    "    <img src=\"https://cf-courses-data.s3.us.cloud-object-storage.appdomain.cloud/assets/logos/SN_web_lightmode.png\" width=\"300\">\n",
    "</center>\n",
    "\n",
    "# Assignment: Notebook for Peer Assignment\n",
    "\n",
    "Estimated time needed: 45 minutes\n"
   ]
  },
  {
   "cell_type": "markdown",
   "metadata": {},
   "source": [
    "# Assignment Scenario\n",
    "\n",
    "Congratulations! You have just been hired by a US Venture Capital firm as a data analyst.\n",
    "\n",
    "The company is considering foreign grain markets to help meet its supply chain requirements for its recent investments in the microbrewery and microdistillery industry, which is involved with the production and distribution of craft beers and spirits.\n",
    "\n",
    "Your first task is to provide a high level analysis of crop production in Canada. Your stakeholders want to understand the current and historical performance of certain crop types in terms of supply and price volatility. For now they are mainly interested in a macro-view of Canada's crop farming industry, and how it relates to the relative value of the Canadian and US dollars.\n"
   ]
  },
  {
   "cell_type": "markdown",
   "metadata": {},
   "source": [
    "# Introduction\n",
    "\n",
    "Using this R notebook you will:\n",
    "\n",
    "1.  Understand four datasets\n",
    "2.  Load the datasets into four separate tables in a database\n",
    "3.  Execute SQL queries to answer assignment questions\n",
    "\n",
    "You have already encountered two of these datasets in the previous practice lab. You will be able to reuse much of the work you did there to prepare your database tables for executing SQL queries.\n"
   ]
  },
  {
   "cell_type": "markdown",
   "metadata": {},
   "source": [
    "# Understand the datasets\n",
    "\n",
    "To complete the assignment problems in this notebook you will be using subsetted snapshots of two datasets from Statistics Canada, and one from the Bank of Canada. The links to the prepared datasets are provided in the next section; the interested student can explore the landing pages for the source datasets as follows:\n",
    "\n",
    "1.  <a href=\"https://www150.statcan.gc.ca/t1/tbl1/en/tv.action?utm_medium=Exinfluencer&utm_source=Exinfluencer&utm_content=000026UJ&utm_term=10006555&utm_id=NA-SkillsNetwork-Channel-SkillsNetworkCoursesIBMRP0203ENSkillsNetwork23863830-2021-01-01&pid=3210035901\">Canadian Principal Crops (Data & Metadata)</a>\n",
    "2.  <a href=\"https://www150.statcan.gc.ca/t1/tbl1/en/tv.action?utm_medium=Exinfluencer&utm_source=Exinfluencer&utm_content=000026UJ&utm_term=10006555&utm_id=NA-SkillsNetwork-Channel-SkillsNetworkCoursesIBMRP0203ENSkillsNetwork23863830-2021-01-01&pid=3210007701\">Farm product prices (Data & Metadata)</a>\n",
    "3.  <a href=\"https://www.bankofcanada.ca/rates/exchange/daily-exchange-rates?utm_medium=Exinfluencer&utm_source=Exinfluencer&utm_content=000026UJ&utm_term=10006555&utm_id=NA-SkillsNetwork-Channel-SkillsNetworkCoursesIBMRP0203ENSkillsNetwork23863830-2021-01-01\">Bank of Canada daily average exchange rates</a>\n",
    "\n",
    "### 1. Canadian Principal Crops Data \\*\n",
    "\n",
    "This dataset contains agricultural production measures for the principle crops grown in Canada, including a breakdown by province and teritory, for each year from 1908 to 2020.\n",
    "\n",
    "For this assignment you will use a preprocessed snapshot of this dataset (see below).\n",
    "\n",
    "A detailed description of this dataset can be obtained from the StatsCan Data Portal at:\n",
    "[https://www150.statcan.gc.ca/t1/tbl1/en/tv.action?pid=3210035901](https://www150.statcan.gc.ca/t1/tbl1/en/tv.action?utm_medium=Exinfluencer&utm_source=Exinfluencer&utm_content=000026UJ&utm_term=10006555&utm_id=NA-SkillsNetwork-Channel-SkillsNetworkCoursesIBMRP0203ENSkillsNetwork23863830-2021-01-01&pid=3210035901)\\\n",
    "Detailed information is included in the metadata file and as header text in the data file, which can be downloaded - look for the 'download options' link.\n",
    "\n",
    "### 2. Farm product prices\n",
    "\n",
    "This dataset contains monthly average farm product prices for Canadian crops and livestock by province and teritory, from 1980 to 2020 (or 'last year', whichever is greatest).\n",
    "\n",
    "For this assignment you will use a preprocessed snapshot of this dataset (see below).\n",
    "\n",
    "A description of this dataset can be obtained from the StatsCan Data Portal at:\n",
    "[https://www150.statcan.gc.ca/t1/tbl1/en/tv.action?pid=3210007701](https://www150.statcan.gc.ca/t1/tbl1/en/tv.action?utm_medium=Exinfluencer&utm_source=Exinfluencer&utm_content=000026UJ&utm_term=10006555&utm_id=NA-SkillsNetwork-Channel-SkillsNetworkCoursesIBMRP0203ENSkillsNetwork23863830-2021-01-01&pid=3210007701)\n",
    "The information is included in the metadata file, which can be downloaded - look for the 'download options' link.\n",
    "\n",
    "### 3. Bank of Canada daily average exchange rates \\*\n",
    "\n",
    "This dataset contains the daily average exchange rates for multiple foreign currencies. Exchange rates are expressed as 1 unit of the foreign currency converted into Canadian dollars. It includes only the latest four years of data, and the rates are published once each business day by 16:30 ET.\n",
    "\n",
    "For this assignment you will use a snapshot of this dataset with only the USD-CAD exchange rates included (see next section). We have also prepared a monthly averaged version which you will be using below.\n",
    "\n",
    "A brief description of this dataset and the original dataset can be obtained from the Bank of Canada Data Portal at:\n",
    "[https://www.bankofcanada.ca/rates/exchange/daily-exchange-rates/](https://www.bankofcanada.ca/rates/exchange/daily-exchange-rates/?utm_medium=Exinfluencer&utm_source=Exinfluencer&utm_content=000026UJ&utm_term=10006555&utm_id=NA-SkillsNetwork-Channel-SkillsNetworkCoursesIBMRP0203ENSkillsNetwork23863830-2021-01-01)\n",
    "\n",
    "( \\* these datasets are the same as the ones you used in the practice lab)\n"
   ]
  },
  {
   "cell_type": "markdown",
   "metadata": {},
   "source": [
    "### Dataset URLs\n",
    "\n",
    "1.  Annual Crop Data: <https://cf-courses-data.s3.us.cloud-object-storage.appdomain.cloud/IBM-RP0203EN-SkillsNetwork/labs/Final%20Project/Annual_Crop_Data.csv>\n",
    "\n",
    "2.  Farm product prices: <https://cf-courses-data.s3.us.cloud-object-storage.appdomain.cloud/IBM-RP0203EN-SkillsNetwork/labs/Final%20Project/Monthly_Farm_Prices.csv>\n",
    "\n",
    "3.  Daily FX Data: <https://cf-courses-data.s3.us.cloud-object-storage.appdomain.cloud/IBM-RP0203EN-SkillsNetwork/labs/Final%20Project/Daily_FX.csv>\n",
    "\n",
    "4.  Monthly FX Data: <https://cf-courses-data.s3.us.cloud-object-storage.appdomain.cloud/IBM-RP0203EN-SkillsNetwork/labs/Final%20Project/Monthly_FX.csv>\n",
    "\n",
    "<span style=\"color:red\">**IMPORTANT:**</span> You will be loading these datasets directly into R data frames from these URLs instead of from the StatsCan and Bank of Canada portals. The versions provided at these URLs are simplified and subsetted versions of the original datasets.\n"
   ]
  },
  {
   "cell_type": "markdown",
   "metadata": {},
   "source": [
    "#### Now let's load these datasets into four separate tables.\n",
    "\n",
    "Let's first load the RSQLite package:\n"
   ]
  },
  {
   "cell_type": "code",
   "execution_count": 1,
   "metadata": {
    "tags": []
   },
   "outputs": [
    {
     "name": "stderr",
     "output_type": "stream",
     "text": [
      "Updating HTML index of packages in '.Library'\n",
      "Making 'packages.html' ... done\n"
     ]
    }
   ],
   "source": [
    "install.packages(\"RSQLite\")\n",
    "library(\"RSQLite\")"
   ]
  },
  {
   "cell_type": "markdown",
   "metadata": {},
   "source": [
    "## Problem 1\n",
    "\n",
    "#### Create tables\n",
    "\n",
    "Establish a connection **conn** to the RSQLite database **FinalDB.sqlite**, and create the following four tables.\n",
    "\n",
    "1.  **CROP_DATA**\n",
    "2.  **FARM_PRICES**\n",
    "3.  **DAILY_FX**\n",
    "4.  **MONTHLY_FX**\n",
    "\n",
    "The previous practice lab will help you accomplish this.\n"
   ]
  },
  {
   "cell_type": "code",
   "execution_count": 2,
   "metadata": {
    "tags": []
   },
   "outputs": [],
   "source": [
    "# Write your query here\n",
    "conn <- dbConnect(RSQLite::SQLite(),\"FinalDB.sqlite\")"
   ]
  },
  {
   "cell_type": "code",
   "execution_count": 3,
   "metadata": {
    "tags": []
   },
   "outputs": [
    {
     "data": {
      "text/html": [],
      "text/latex": [],
      "text/markdown": [],
      "text/plain": [
       "character(0)"
      ]
     },
     "metadata": {},
     "output_type": "display_data"
    }
   ],
   "source": [
    "#check list of tables in the present db.\n",
    "dbListTables(conn)"
   ]
  },
  {
   "cell_type": "markdown",
   "metadata": {},
   "source": [
    "## Problem 2\n",
    "\n",
    "#### Read Datasets and load your tables in database\n",
    "\n",
    "Read the datasets into R dataframes using the urls provided above. Then load your tables in database.\n"
   ]
  },
  {
   "cell_type": "code",
   "execution_count": 11,
   "metadata": {
    "tags": []
   },
   "outputs": [
    {
     "data": {
      "text/html": [
       "<style>\n",
       ".list-inline {list-style: none; margin:0; padding: 0}\n",
       ".list-inline>li {display: inline-block}\n",
       ".list-inline>li:not(:last-child)::after {content: \"\\00b7\"; padding: 0 .5ex}\n",
       "</style>\n",
       "<ol class=list-inline><li>'CROP_DATA'</li><li>'DAILY_FX'</li><li>'FARM_PRICES'</li><li>'MONTHLY_FX'</li></ol>\n"
      ],
      "text/latex": [
       "\\begin{enumerate*}\n",
       "\\item 'CROP\\_DATA'\n",
       "\\item 'DAILY\\_FX'\n",
       "\\item 'FARM\\_PRICES'\n",
       "\\item 'MONTHLY\\_FX'\n",
       "\\end{enumerate*}\n"
      ],
      "text/markdown": [
       "1. 'CROP_DATA'\n",
       "2. 'DAILY_FX'\n",
       "3. 'FARM_PRICES'\n",
       "4. 'MONTHLY_FX'\n",
       "\n",
       "\n"
      ],
      "text/plain": [
       "[1] \"CROP_DATA\"   \"DAILY_FX\"    \"FARM_PRICES\" \"MONTHLY_FX\" "
      ]
     },
     "metadata": {},
     "output_type": "display_data"
    }
   ],
   "source": [
    "# Write your query here\n",
    "url1 <- \"https://cf-courses-data.s3.us.cloud-object-storage.appdomain.cloud/IBM-RP0203EN-SkillsNetwork/labs/Final%20Project/Annual_Crop_Data.csv\"\n",
    "url2 <- \"https://cf-courses-data.s3.us.cloud-object-storage.appdomain.cloud/IBM-RP0203EN-SkillsNetwork/labs/Final%20Project/Monthly_Farm_Prices.csv\"\n",
    "url3 <- \"https://cf-courses-data.s3.us.cloud-object-storage.appdomain.cloud/IBM-RP0203EN-SkillsNetwork/labs/Final%20Project/Daily_FX.csv\"\n",
    "url4 <- \"https://cf-courses-data.s3.us.cloud-object-storage.appdomain.cloud/IBM-RP0203EN-SkillsNetwork/labs/Final%20Project/Monthly_FX.csv\"\n",
    "crops <- read.csv(url1)\n",
    "daily <- read.csv(url3)\n",
    "monthylfx <- read.csv(url4)\n",
    "mfp <- read.csv(url2)\n",
    "dbWriteTable(conn, \"CROP_DATA\", crops)\n",
    "dbWriteTable(conn, \"FARM_PRICES\", mfp)\n",
    "dbWriteTable(conn, \"DAILY_FX\", daily)\n",
    "dbWriteTable(conn, \"MONTHLY_FX\", monthylfx)\n",
    "dbListTables(conn)"
   ]
  },
  {
   "cell_type": "markdown",
   "metadata": {},
   "source": [
    "## Now execute SQL queries using the RSQLite R package to solve the assignment problems.\n",
    "\n",
    "## Problem 3\n",
    "\n",
    "#### How many records are in the farm prices dataset?\n"
   ]
  },
  {
   "cell_type": "code",
   "execution_count": 12,
   "metadata": {
    "tags": []
   },
   "outputs": [
    {
     "data": {
      "text/html": [
       "<table>\n",
       "<caption>A data.frame: 1 × 1</caption>\n",
       "<thead>\n",
       "\t<tr><th scope=col>COUNT(*)</th></tr>\n",
       "\t<tr><th scope=col>&lt;int&gt;</th></tr>\n",
       "</thead>\n",
       "<tbody>\n",
       "\t<tr><td>2678</td></tr>\n",
       "</tbody>\n",
       "</table>\n"
      ],
      "text/latex": [
       "A data.frame: 1 × 1\n",
       "\\begin{tabular}{l}\n",
       " COUNT(*)\\\\\n",
       " <int>\\\\\n",
       "\\hline\n",
       "\t 2678\\\\\n",
       "\\end{tabular}\n"
      ],
      "text/markdown": [
       "\n",
       "A data.frame: 1 × 1\n",
       "\n",
       "| COUNT(*) &lt;int&gt; |\n",
       "|---|\n",
       "| 2678 |\n",
       "\n"
      ],
      "text/plain": [
       "  COUNT(*)\n",
       "1 2678    "
      ]
     },
     "metadata": {},
     "output_type": "display_data"
    }
   ],
   "source": [
    "# Write your query here\n",
    "query <- 'SELECT COUNT(*) FROM FARM_PRICES'\n",
    "dbGetQuery(conn, query)"
   ]
  },
  {
   "cell_type": "markdown",
   "metadata": {},
   "source": [
    "## Problem 4\n",
    "\n",
    "#### Which geographies are included in the farm prices dataset?\n"
   ]
  },
  {
   "cell_type": "code",
   "execution_count": 13,
   "metadata": {
    "tags": []
   },
   "outputs": [
    {
     "data": {
      "text/html": [
       "<table>\n",
       "<caption>A data.frame: 2 × 1</caption>\n",
       "<thead>\n",
       "\t<tr><th scope=col>GEO</th></tr>\n",
       "\t<tr><th scope=col>&lt;chr&gt;</th></tr>\n",
       "</thead>\n",
       "<tbody>\n",
       "\t<tr><td>Alberta     </td></tr>\n",
       "\t<tr><td>Saskatchewan</td></tr>\n",
       "</tbody>\n",
       "</table>\n"
      ],
      "text/latex": [
       "A data.frame: 2 × 1\n",
       "\\begin{tabular}{l}\n",
       " GEO\\\\\n",
       " <chr>\\\\\n",
       "\\hline\n",
       "\t Alberta     \\\\\n",
       "\t Saskatchewan\\\\\n",
       "\\end{tabular}\n"
      ],
      "text/markdown": [
       "\n",
       "A data.frame: 2 × 1\n",
       "\n",
       "| GEO &lt;chr&gt; |\n",
       "|---|\n",
       "| Alberta      |\n",
       "| Saskatchewan |\n",
       "\n"
      ],
      "text/plain": [
       "  GEO         \n",
       "1 Alberta     \n",
       "2 Saskatchewan"
      ]
     },
     "metadata": {},
     "output_type": "display_data"
    }
   ],
   "source": [
    "# Write your query here\n",
    "query <- 'SELECT DISTINCT(GEO) FROM FARM_PRICES'\n",
    "dbGetQuery(conn, query)"
   ]
  },
  {
   "cell_type": "markdown",
   "metadata": {},
   "source": [
    "## Problem 5\n",
    "\n",
    "#### How many hectares of Rye were harvested in Canada in 1968?\n"
   ]
  },
  {
   "cell_type": "code",
   "execution_count": 14,
   "metadata": {
    "tags": []
   },
   "outputs": [
    {
     "data": {
      "text/html": [
       "<table>\n",
       "<caption>A data.frame: 1 × 1</caption>\n",
       "<thead>\n",
       "\t<tr><th scope=col>SUM(HARVESTED_AREA)</th></tr>\n",
       "\t<tr><th scope=col>&lt;int&gt;</th></tr>\n",
       "</thead>\n",
       "<tbody>\n",
       "\t<tr><td>21244290</td></tr>\n",
       "</tbody>\n",
       "</table>\n"
      ],
      "text/latex": [
       "A data.frame: 1 × 1\n",
       "\\begin{tabular}{l}\n",
       " SUM(HARVESTED\\_AREA)\\\\\n",
       " <int>\\\\\n",
       "\\hline\n",
       "\t 21244290\\\\\n",
       "\\end{tabular}\n"
      ],
      "text/markdown": [
       "\n",
       "A data.frame: 1 × 1\n",
       "\n",
       "| SUM(HARVESTED_AREA) &lt;int&gt; |\n",
       "|---|\n",
       "| 21244290 |\n",
       "\n"
      ],
      "text/plain": [
       "  SUM(HARVESTED_AREA)\n",
       "1 21244290           "
      ]
     },
     "metadata": {},
     "output_type": "display_data"
    }
   ],
   "source": [
    "# Write your query here\n",
    "query <- 'SELECT SUM(HARVESTED_AREA) FROM CROP_DATA WHERE CROP_TYPE LIKE \"Rye\"'\n",
    "dbGetQuery(conn, query)"
   ]
  },
  {
   "cell_type": "markdown",
   "metadata": {},
   "source": [
    "## Problem 6\n",
    "\n",
    "#### Query and display the first 6 rows of the farm prices table for Rye.\n"
   ]
  },
  {
   "cell_type": "code",
   "execution_count": 15,
   "metadata": {
    "tags": []
   },
   "outputs": [
    {
     "data": {
      "text/html": [
       "<table>\n",
       "<caption>A data.frame: 6 × 5</caption>\n",
       "<thead>\n",
       "\t<tr><th scope=col>CD_ID</th><th scope=col>DATE</th><th scope=col>CROP_TYPE</th><th scope=col>GEO</th><th scope=col>PRICE_PRERMT</th></tr>\n",
       "\t<tr><th scope=col>&lt;int&gt;</th><th scope=col>&lt;chr&gt;</th><th scope=col>&lt;chr&gt;</th><th scope=col>&lt;chr&gt;</th><th scope=col>&lt;dbl&gt;</th></tr>\n",
       "</thead>\n",
       "<tbody>\n",
       "\t<tr><td> 4</td><td>1985-01-01</td><td>Rye</td><td>Alberta     </td><td>100.77</td></tr>\n",
       "\t<tr><td> 5</td><td>1985-01-01</td><td>Rye</td><td>Saskatchewan</td><td>109.75</td></tr>\n",
       "\t<tr><td>10</td><td>1985-02-01</td><td>Rye</td><td>Alberta     </td><td> 95.05</td></tr>\n",
       "\t<tr><td>11</td><td>1985-02-01</td><td>Rye</td><td>Saskatchewan</td><td>103.46</td></tr>\n",
       "\t<tr><td>16</td><td>1985-03-01</td><td>Rye</td><td>Alberta     </td><td> 96.77</td></tr>\n",
       "\t<tr><td>17</td><td>1985-03-01</td><td>Rye</td><td>Saskatchewan</td><td>106.38</td></tr>\n",
       "</tbody>\n",
       "</table>\n"
      ],
      "text/latex": [
       "A data.frame: 6 × 5\n",
       "\\begin{tabular}{lllll}\n",
       " CD\\_ID & DATE & CROP\\_TYPE & GEO & PRICE\\_PRERMT\\\\\n",
       " <int> & <chr> & <chr> & <chr> & <dbl>\\\\\n",
       "\\hline\n",
       "\t  4 & 1985-01-01 & Rye & Alberta      & 100.77\\\\\n",
       "\t  5 & 1985-01-01 & Rye & Saskatchewan & 109.75\\\\\n",
       "\t 10 & 1985-02-01 & Rye & Alberta      &  95.05\\\\\n",
       "\t 11 & 1985-02-01 & Rye & Saskatchewan & 103.46\\\\\n",
       "\t 16 & 1985-03-01 & Rye & Alberta      &  96.77\\\\\n",
       "\t 17 & 1985-03-01 & Rye & Saskatchewan & 106.38\\\\\n",
       "\\end{tabular}\n"
      ],
      "text/markdown": [
       "\n",
       "A data.frame: 6 × 5\n",
       "\n",
       "| CD_ID &lt;int&gt; | DATE &lt;chr&gt; | CROP_TYPE &lt;chr&gt; | GEO &lt;chr&gt; | PRICE_PRERMT &lt;dbl&gt; |\n",
       "|---|---|---|---|---|\n",
       "|  4 | 1985-01-01 | Rye | Alberta      | 100.77 |\n",
       "|  5 | 1985-01-01 | Rye | Saskatchewan | 109.75 |\n",
       "| 10 | 1985-02-01 | Rye | Alberta      |  95.05 |\n",
       "| 11 | 1985-02-01 | Rye | Saskatchewan | 103.46 |\n",
       "| 16 | 1985-03-01 | Rye | Alberta      |  96.77 |\n",
       "| 17 | 1985-03-01 | Rye | Saskatchewan | 106.38 |\n",
       "\n"
      ],
      "text/plain": [
       "  CD_ID DATE       CROP_TYPE GEO          PRICE_PRERMT\n",
       "1  4    1985-01-01 Rye       Alberta      100.77      \n",
       "2  5    1985-01-01 Rye       Saskatchewan 109.75      \n",
       "3 10    1985-02-01 Rye       Alberta       95.05      \n",
       "4 11    1985-02-01 Rye       Saskatchewan 103.46      \n",
       "5 16    1985-03-01 Rye       Alberta       96.77      \n",
       "6 17    1985-03-01 Rye       Saskatchewan 106.38      "
      ]
     },
     "metadata": {},
     "output_type": "display_data"
    }
   ],
   "source": [
    "# Wriet your query here\n",
    "query <- 'SELECT * FROM FARM_PRICES WHERE CROP_TYPE LIKE \"Rye\" LIMIT 6'\n",
    "dbGetQuery(conn, query)"
   ]
  },
  {
   "cell_type": "markdown",
   "metadata": {},
   "source": [
    "## Problem 7\n",
    "\n",
    "#### Which provinces grew Barley?\n"
   ]
  },
  {
   "cell_type": "code",
   "execution_count": 16,
   "metadata": {
    "tags": []
   },
   "outputs": [
    {
     "data": {
      "text/html": [
       "<table>\n",
       "<caption>A data.frame: 3 × 1</caption>\n",
       "<thead>\n",
       "\t<tr><th scope=col>GEO</th></tr>\n",
       "\t<tr><th scope=col>&lt;chr&gt;</th></tr>\n",
       "</thead>\n",
       "<tbody>\n",
       "\t<tr><td>Alberta     </td></tr>\n",
       "\t<tr><td>Canada      </td></tr>\n",
       "\t<tr><td>Saskatchewan</td></tr>\n",
       "</tbody>\n",
       "</table>\n"
      ],
      "text/latex": [
       "A data.frame: 3 × 1\n",
       "\\begin{tabular}{l}\n",
       " GEO\\\\\n",
       " <chr>\\\\\n",
       "\\hline\n",
       "\t Alberta     \\\\\n",
       "\t Canada      \\\\\n",
       "\t Saskatchewan\\\\\n",
       "\\end{tabular}\n"
      ],
      "text/markdown": [
       "\n",
       "A data.frame: 3 × 1\n",
       "\n",
       "| GEO &lt;chr&gt; |\n",
       "|---|\n",
       "| Alberta      |\n",
       "| Canada       |\n",
       "| Saskatchewan |\n",
       "\n"
      ],
      "text/plain": [
       "  GEO         \n",
       "1 Alberta     \n",
       "2 Canada      \n",
       "3 Saskatchewan"
      ]
     },
     "metadata": {},
     "output_type": "display_data"
    }
   ],
   "source": [
    "# Write your query here\n",
    "query <- 'SELECT DISTINCT(GEO) FROM CROP_DATA WHERE CROP_TYPE LIKE \"Barley\"'\n",
    "dbGetQuery(conn, query)"
   ]
  },
  {
   "cell_type": "markdown",
   "metadata": {},
   "source": [
    "## Problem 8\n",
    "\n",
    "#### Find the first and last dates for the farm prices data.\n"
   ]
  },
  {
   "cell_type": "code",
   "execution_count": 17,
   "metadata": {
    "tags": []
   },
   "outputs": [
    {
     "data": {
      "text/html": [
       "<table>\n",
       "<caption>A data.frame: 1 × 2</caption>\n",
       "<thead>\n",
       "\t<tr><th scope=col>MIN(DATE)</th><th scope=col>MAX(DATE)</th></tr>\n",
       "\t<tr><th scope=col>&lt;chr&gt;</th><th scope=col>&lt;chr&gt;</th></tr>\n",
       "</thead>\n",
       "<tbody>\n",
       "\t<tr><td>1985-01-01</td><td>2020-12-01</td></tr>\n",
       "</tbody>\n",
       "</table>\n"
      ],
      "text/latex": [
       "A data.frame: 1 × 2\n",
       "\\begin{tabular}{ll}\n",
       " MIN(DATE) & MAX(DATE)\\\\\n",
       " <chr> & <chr>\\\\\n",
       "\\hline\n",
       "\t 1985-01-01 & 2020-12-01\\\\\n",
       "\\end{tabular}\n"
      ],
      "text/markdown": [
       "\n",
       "A data.frame: 1 × 2\n",
       "\n",
       "| MIN(DATE) &lt;chr&gt; | MAX(DATE) &lt;chr&gt; |\n",
       "|---|---|\n",
       "| 1985-01-01 | 2020-12-01 |\n",
       "\n"
      ],
      "text/plain": [
       "  MIN(DATE)  MAX(DATE) \n",
       "1 1985-01-01 2020-12-01"
      ]
     },
     "metadata": {},
     "output_type": "display_data"
    }
   ],
   "source": [
    "# Write your query here\n",
    "query <- 'SELECT MIN(DATE), MAX(DATE) FROM FARM_PRICES'\n",
    "dbGetQuery(conn, query)"
   ]
  },
  {
   "cell_type": "markdown",
   "metadata": {},
   "source": [
    "## Problem 9\n",
    "\n",
    "#### Which crops have ever reached a farm price greater than or equal to $350 per metric tonne?\n"
   ]
  },
  {
   "cell_type": "code",
   "execution_count": 24,
   "metadata": {
    "tags": []
   },
   "outputs": [
    {
     "data": {
      "text/html": [
       "<table>\n",
       "<caption>A data.frame: 1 × 1</caption>\n",
       "<thead>\n",
       "\t<tr><th scope=col>CROP_TYPE</th></tr>\n",
       "\t<tr><th scope=col>&lt;chr&gt;</th></tr>\n",
       "</thead>\n",
       "<tbody>\n",
       "\t<tr><td>Canola</td></tr>\n",
       "</tbody>\n",
       "</table>\n"
      ],
      "text/latex": [
       "A data.frame: 1 × 1\n",
       "\\begin{tabular}{l}\n",
       " CROP\\_TYPE\\\\\n",
       " <chr>\\\\\n",
       "\\hline\n",
       "\t Canola\\\\\n",
       "\\end{tabular}\n"
      ],
      "text/markdown": [
       "\n",
       "A data.frame: 1 × 1\n",
       "\n",
       "| CROP_TYPE &lt;chr&gt; |\n",
       "|---|\n",
       "| Canola |\n",
       "\n"
      ],
      "text/plain": [
       "  CROP_TYPE\n",
       "1 Canola   "
      ]
     },
     "metadata": {},
     "output_type": "display_data"
    }
   ],
   "source": [
    "# Write your query here\n",
    "query <- 'SELECT DISTINCT(CROP_TYPE) FROM FARM_PRICES WHERE CROP_TYPE IN (SELECT CROP_TYPE FROM FARM_PRICES WHERE PRICE_PRERMT >= 350)'\n",
    "dbGetQuery(conn, query)"
   ]
  },
  {
   "cell_type": "markdown",
   "metadata": {},
   "source": [
    "## Problem 10\n",
    "\n",
    "#### Rank the crop types harvested in Saskatchewan in the year 2000 by their average yield. Which crop performed best?\n"
   ]
  },
  {
   "cell_type": "code",
   "execution_count": 49,
   "metadata": {
    "tags": []
   },
   "outputs": [
    {
     "data": {
      "text/html": [
       "<table>\n",
       "<caption>A data.frame: 4 × 2</caption>\n",
       "<thead>\n",
       "\t<tr><th scope=col>CROP_TYPE</th><th scope=col>AVG_YIELD</th></tr>\n",
       "\t<tr><th scope=col>&lt;chr&gt;</th><th scope=col>&lt;int&gt;</th></tr>\n",
       "</thead>\n",
       "<tbody>\n",
       "\t<tr><td>Barley</td><td>2800</td></tr>\n",
       "\t<tr><td>Wheat </td><td>2200</td></tr>\n",
       "\t<tr><td>Rye   </td><td>2100</td></tr>\n",
       "\t<tr><td>Canola</td><td>1400</td></tr>\n",
       "</tbody>\n",
       "</table>\n"
      ],
      "text/latex": [
       "A data.frame: 4 × 2\n",
       "\\begin{tabular}{ll}\n",
       " CROP\\_TYPE & AVG\\_YIELD\\\\\n",
       " <chr> & <int>\\\\\n",
       "\\hline\n",
       "\t Barley & 2800\\\\\n",
       "\t Wheat  & 2200\\\\\n",
       "\t Rye    & 2100\\\\\n",
       "\t Canola & 1400\\\\\n",
       "\\end{tabular}\n"
      ],
      "text/markdown": [
       "\n",
       "A data.frame: 4 × 2\n",
       "\n",
       "| CROP_TYPE &lt;chr&gt; | AVG_YIELD &lt;int&gt; |\n",
       "|---|---|\n",
       "| Barley | 2800 |\n",
       "| Wheat  | 2200 |\n",
       "| Rye    | 2100 |\n",
       "| Canola | 1400 |\n",
       "\n"
      ],
      "text/plain": [
       "  CROP_TYPE AVG_YIELD\n",
       "1 Barley    2800     \n",
       "2 Wheat     2200     \n",
       "3 Rye       2100     \n",
       "4 Canola    1400     "
      ]
     },
     "metadata": {},
     "output_type": "display_data"
    }
   ],
   "source": [
    "# Write your query here\n",
    "query <- 'SELECT CROP_TYPE, AVG_YIELD FROM CROP_DATA WHERE (YEAR LIKE \"%2000%\") AND (GEO LIKE \"Saskatchewan\") ORDER BY AVG_YIELD DESC'\n",
    "dbGetQuery(conn, query)"
   ]
  },
  {
   "cell_type": "markdown",
   "metadata": {},
   "source": [
    "## Problem 11\n",
    "\n",
    "#### Rank the crops and geographies by their average yield (KG per hectare) since the year 2000. Which crop and province had the highest average yield since the year 2000?\n"
   ]
  },
  {
   "cell_type": "code",
   "execution_count": 59,
   "metadata": {
    "tags": []
   },
   "outputs": [
    {
     "data": {
      "text/html": [
       "<table>\n",
       "<caption>A data.frame: 252 × 3</caption>\n",
       "<thead>\n",
       "\t<tr><th scope=col>CROP_TYPE</th><th scope=col>GEO</th><th scope=col>AVG_YIELD</th></tr>\n",
       "\t<tr><th scope=col>&lt;chr&gt;</th><th scope=col>&lt;chr&gt;</th><th scope=col>&lt;int&gt;</th></tr>\n",
       "</thead>\n",
       "<tbody>\n",
       "\t<tr><td>Barley</td><td>Alberta     </td><td>4100</td></tr>\n",
       "\t<tr><td>Barley</td><td>Alberta     </td><td>4100</td></tr>\n",
       "\t<tr><td>Barley</td><td>Alberta     </td><td>3980</td></tr>\n",
       "\t<tr><td>Wheat </td><td>Alberta     </td><td>3900</td></tr>\n",
       "\t<tr><td>Barley</td><td>Canada      </td><td>3900</td></tr>\n",
       "\t<tr><td>Wheat </td><td>Alberta     </td><td>3900</td></tr>\n",
       "\t<tr><td>Barley</td><td>Alberta     </td><td>3900</td></tr>\n",
       "\t<tr><td>Barley</td><td>Alberta     </td><td>3890</td></tr>\n",
       "\t<tr><td>Barley</td><td>Canada      </td><td>3820</td></tr>\n",
       "\t<tr><td>Barley</td><td>Canada      </td><td>3810</td></tr>\n",
       "\t<tr><td>Barley</td><td>Canada      </td><td>3800</td></tr>\n",
       "\t<tr><td>Barley</td><td>Saskatchewan</td><td>3800</td></tr>\n",
       "\t<tr><td>Wheat </td><td>Alberta     </td><td>3750</td></tr>\n",
       "\t<tr><td>Barley</td><td>Saskatchewan</td><td>3730</td></tr>\n",
       "\t<tr><td>Barley</td><td>Alberta     </td><td>3700</td></tr>\n",
       "\t<tr><td>Barley</td><td>Canada      </td><td>3700</td></tr>\n",
       "\t<tr><td>Rye   </td><td>Alberta     </td><td>3691</td></tr>\n",
       "\t<tr><td>Barley</td><td>Saskatchewan</td><td>3690</td></tr>\n",
       "\t<tr><td>Barley</td><td>Alberta     </td><td>3600</td></tr>\n",
       "\t<tr><td>Barley</td><td>Alberta     </td><td>3600</td></tr>\n",
       "\t<tr><td>Barley</td><td>Alberta     </td><td>3600</td></tr>\n",
       "\t<tr><td>Barley</td><td>Alberta     </td><td>3600</td></tr>\n",
       "\t<tr><td>Barley</td><td>Saskatchewan</td><td>3600</td></tr>\n",
       "\t<tr><td>Wheat </td><td>Canada      </td><td>3600</td></tr>\n",
       "\t<tr><td>Barley</td><td>Alberta     </td><td>3600</td></tr>\n",
       "\t<tr><td>Wheat </td><td>Canada      </td><td>3600</td></tr>\n",
       "\t<tr><td>Barley</td><td>Saskatchewan</td><td>3600</td></tr>\n",
       "\t<tr><td>Barley</td><td>Alberta     </td><td>3595</td></tr>\n",
       "\t<tr><td>Wheat </td><td>Alberta     </td><td>3518</td></tr>\n",
       "\t<tr><td>Wheat </td><td>Canada      </td><td>3512</td></tr>\n",
       "\t<tr><td>⋮</td><td>⋮</td><td>⋮</td></tr>\n",
       "\t<tr><td>Rye   </td><td>Canada      </td><td>1700</td></tr>\n",
       "\t<tr><td>Canola</td><td>Alberta     </td><td>1700</td></tr>\n",
       "\t<tr><td>Wheat </td><td>Saskatchewan</td><td>1700</td></tr>\n",
       "\t<tr><td>Canola</td><td>Canada      </td><td>1700</td></tr>\n",
       "\t<tr><td>Canola</td><td>Alberta     </td><td>1700</td></tr>\n",
       "\t<tr><td>Canola</td><td>Saskatchewan</td><td>1700</td></tr>\n",
       "\t<tr><td>Rye   </td><td>Saskatchewan</td><td>1600</td></tr>\n",
       "\t<tr><td>Wheat </td><td>Saskatchewan</td><td>1600</td></tr>\n",
       "\t<tr><td>Rye   </td><td>Alberta     </td><td>1600</td></tr>\n",
       "\t<tr><td>Canola</td><td>Canada      </td><td>1600</td></tr>\n",
       "\t<tr><td>Canola</td><td>Canada      </td><td>1600</td></tr>\n",
       "\t<tr><td>Rye   </td><td>Saskatchewan</td><td>1600</td></tr>\n",
       "\t<tr><td>Canola</td><td>Alberta     </td><td>1500</td></tr>\n",
       "\t<tr><td>Canola</td><td>Canada      </td><td>1500</td></tr>\n",
       "\t<tr><td>Canola</td><td>Alberta     </td><td>1500</td></tr>\n",
       "\t<tr><td>Wheat </td><td>Saskatchewan</td><td>1500</td></tr>\n",
       "\t<tr><td>Canola</td><td>Saskatchewan</td><td>1500</td></tr>\n",
       "\t<tr><td>Canola</td><td>Canada      </td><td>1500</td></tr>\n",
       "\t<tr><td>Canola</td><td>Saskatchewan</td><td>1400</td></tr>\n",
       "\t<tr><td>Canola</td><td>Canada      </td><td>1400</td></tr>\n",
       "\t<tr><td>Canola</td><td>Saskatchewan</td><td>1400</td></tr>\n",
       "\t<tr><td>Canola</td><td>Saskatchewan</td><td>1400</td></tr>\n",
       "\t<tr><td>Canola</td><td>Canada      </td><td>1300</td></tr>\n",
       "\t<tr><td>Rye   </td><td>Saskatchewan</td><td>1300</td></tr>\n",
       "\t<tr><td>Canola</td><td>Saskatchewan</td><td>1300</td></tr>\n",
       "\t<tr><td>Canola</td><td>Alberta     </td><td>1200</td></tr>\n",
       "\t<tr><td>Canola</td><td>Canada      </td><td>1200</td></tr>\n",
       "\t<tr><td>Canola</td><td>Saskatchewan</td><td>1200</td></tr>\n",
       "\t<tr><td>Canola</td><td>Saskatchewan</td><td>1100</td></tr>\n",
       "\t<tr><td>Canola</td><td>Saskatchewan</td><td>1000</td></tr>\n",
       "</tbody>\n",
       "</table>\n"
      ],
      "text/latex": [
       "A data.frame: 252 × 3\n",
       "\\begin{tabular}{lll}\n",
       " CROP\\_TYPE & GEO & AVG\\_YIELD\\\\\n",
       " <chr> & <chr> & <int>\\\\\n",
       "\\hline\n",
       "\t Barley & Alberta      & 4100\\\\\n",
       "\t Barley & Alberta      & 4100\\\\\n",
       "\t Barley & Alberta      & 3980\\\\\n",
       "\t Wheat  & Alberta      & 3900\\\\\n",
       "\t Barley & Canada       & 3900\\\\\n",
       "\t Wheat  & Alberta      & 3900\\\\\n",
       "\t Barley & Alberta      & 3900\\\\\n",
       "\t Barley & Alberta      & 3890\\\\\n",
       "\t Barley & Canada       & 3820\\\\\n",
       "\t Barley & Canada       & 3810\\\\\n",
       "\t Barley & Canada       & 3800\\\\\n",
       "\t Barley & Saskatchewan & 3800\\\\\n",
       "\t Wheat  & Alberta      & 3750\\\\\n",
       "\t Barley & Saskatchewan & 3730\\\\\n",
       "\t Barley & Alberta      & 3700\\\\\n",
       "\t Barley & Canada       & 3700\\\\\n",
       "\t Rye    & Alberta      & 3691\\\\\n",
       "\t Barley & Saskatchewan & 3690\\\\\n",
       "\t Barley & Alberta      & 3600\\\\\n",
       "\t Barley & Alberta      & 3600\\\\\n",
       "\t Barley & Alberta      & 3600\\\\\n",
       "\t Barley & Alberta      & 3600\\\\\n",
       "\t Barley & Saskatchewan & 3600\\\\\n",
       "\t Wheat  & Canada       & 3600\\\\\n",
       "\t Barley & Alberta      & 3600\\\\\n",
       "\t Wheat  & Canada       & 3600\\\\\n",
       "\t Barley & Saskatchewan & 3600\\\\\n",
       "\t Barley & Alberta      & 3595\\\\\n",
       "\t Wheat  & Alberta      & 3518\\\\\n",
       "\t Wheat  & Canada       & 3512\\\\\n",
       "\t ⋮ & ⋮ & ⋮\\\\\n",
       "\t Rye    & Canada       & 1700\\\\\n",
       "\t Canola & Alberta      & 1700\\\\\n",
       "\t Wheat  & Saskatchewan & 1700\\\\\n",
       "\t Canola & Canada       & 1700\\\\\n",
       "\t Canola & Alberta      & 1700\\\\\n",
       "\t Canola & Saskatchewan & 1700\\\\\n",
       "\t Rye    & Saskatchewan & 1600\\\\\n",
       "\t Wheat  & Saskatchewan & 1600\\\\\n",
       "\t Rye    & Alberta      & 1600\\\\\n",
       "\t Canola & Canada       & 1600\\\\\n",
       "\t Canola & Canada       & 1600\\\\\n",
       "\t Rye    & Saskatchewan & 1600\\\\\n",
       "\t Canola & Alberta      & 1500\\\\\n",
       "\t Canola & Canada       & 1500\\\\\n",
       "\t Canola & Alberta      & 1500\\\\\n",
       "\t Wheat  & Saskatchewan & 1500\\\\\n",
       "\t Canola & Saskatchewan & 1500\\\\\n",
       "\t Canola & Canada       & 1500\\\\\n",
       "\t Canola & Saskatchewan & 1400\\\\\n",
       "\t Canola & Canada       & 1400\\\\\n",
       "\t Canola & Saskatchewan & 1400\\\\\n",
       "\t Canola & Saskatchewan & 1400\\\\\n",
       "\t Canola & Canada       & 1300\\\\\n",
       "\t Rye    & Saskatchewan & 1300\\\\\n",
       "\t Canola & Saskatchewan & 1300\\\\\n",
       "\t Canola & Alberta      & 1200\\\\\n",
       "\t Canola & Canada       & 1200\\\\\n",
       "\t Canola & Saskatchewan & 1200\\\\\n",
       "\t Canola & Saskatchewan & 1100\\\\\n",
       "\t Canola & Saskatchewan & 1000\\\\\n",
       "\\end{tabular}\n"
      ],
      "text/markdown": [
       "\n",
       "A data.frame: 252 × 3\n",
       "\n",
       "| CROP_TYPE &lt;chr&gt; | GEO &lt;chr&gt; | AVG_YIELD &lt;int&gt; |\n",
       "|---|---|---|\n",
       "| Barley | Alberta      | 4100 |\n",
       "| Barley | Alberta      | 4100 |\n",
       "| Barley | Alberta      | 3980 |\n",
       "| Wheat  | Alberta      | 3900 |\n",
       "| Barley | Canada       | 3900 |\n",
       "| Wheat  | Alberta      | 3900 |\n",
       "| Barley | Alberta      | 3900 |\n",
       "| Barley | Alberta      | 3890 |\n",
       "| Barley | Canada       | 3820 |\n",
       "| Barley | Canada       | 3810 |\n",
       "| Barley | Canada       | 3800 |\n",
       "| Barley | Saskatchewan | 3800 |\n",
       "| Wheat  | Alberta      | 3750 |\n",
       "| Barley | Saskatchewan | 3730 |\n",
       "| Barley | Alberta      | 3700 |\n",
       "| Barley | Canada       | 3700 |\n",
       "| Rye    | Alberta      | 3691 |\n",
       "| Barley | Saskatchewan | 3690 |\n",
       "| Barley | Alberta      | 3600 |\n",
       "| Barley | Alberta      | 3600 |\n",
       "| Barley | Alberta      | 3600 |\n",
       "| Barley | Alberta      | 3600 |\n",
       "| Barley | Saskatchewan | 3600 |\n",
       "| Wheat  | Canada       | 3600 |\n",
       "| Barley | Alberta      | 3600 |\n",
       "| Wheat  | Canada       | 3600 |\n",
       "| Barley | Saskatchewan | 3600 |\n",
       "| Barley | Alberta      | 3595 |\n",
       "| Wheat  | Alberta      | 3518 |\n",
       "| Wheat  | Canada       | 3512 |\n",
       "| ⋮ | ⋮ | ⋮ |\n",
       "| Rye    | Canada       | 1700 |\n",
       "| Canola | Alberta      | 1700 |\n",
       "| Wheat  | Saskatchewan | 1700 |\n",
       "| Canola | Canada       | 1700 |\n",
       "| Canola | Alberta      | 1700 |\n",
       "| Canola | Saskatchewan | 1700 |\n",
       "| Rye    | Saskatchewan | 1600 |\n",
       "| Wheat  | Saskatchewan | 1600 |\n",
       "| Rye    | Alberta      | 1600 |\n",
       "| Canola | Canada       | 1600 |\n",
       "| Canola | Canada       | 1600 |\n",
       "| Rye    | Saskatchewan | 1600 |\n",
       "| Canola | Alberta      | 1500 |\n",
       "| Canola | Canada       | 1500 |\n",
       "| Canola | Alberta      | 1500 |\n",
       "| Wheat  | Saskatchewan | 1500 |\n",
       "| Canola | Saskatchewan | 1500 |\n",
       "| Canola | Canada       | 1500 |\n",
       "| Canola | Saskatchewan | 1400 |\n",
       "| Canola | Canada       | 1400 |\n",
       "| Canola | Saskatchewan | 1400 |\n",
       "| Canola | Saskatchewan | 1400 |\n",
       "| Canola | Canada       | 1300 |\n",
       "| Rye    | Saskatchewan | 1300 |\n",
       "| Canola | Saskatchewan | 1300 |\n",
       "| Canola | Alberta      | 1200 |\n",
       "| Canola | Canada       | 1200 |\n",
       "| Canola | Saskatchewan | 1200 |\n",
       "| Canola | Saskatchewan | 1100 |\n",
       "| Canola | Saskatchewan | 1000 |\n",
       "\n"
      ],
      "text/plain": [
       "    CROP_TYPE GEO          AVG_YIELD\n",
       "1   Barley    Alberta      4100     \n",
       "2   Barley    Alberta      4100     \n",
       "3   Barley    Alberta      3980     \n",
       "4   Wheat     Alberta      3900     \n",
       "5   Barley    Canada       3900     \n",
       "6   Wheat     Alberta      3900     \n",
       "7   Barley    Alberta      3900     \n",
       "8   Barley    Alberta      3890     \n",
       "9   Barley    Canada       3820     \n",
       "10  Barley    Canada       3810     \n",
       "11  Barley    Canada       3800     \n",
       "12  Barley    Saskatchewan 3800     \n",
       "13  Wheat     Alberta      3750     \n",
       "14  Barley    Saskatchewan 3730     \n",
       "15  Barley    Alberta      3700     \n",
       "16  Barley    Canada       3700     \n",
       "17  Rye       Alberta      3691     \n",
       "18  Barley    Saskatchewan 3690     \n",
       "19  Barley    Alberta      3600     \n",
       "20  Barley    Alberta      3600     \n",
       "21  Barley    Alberta      3600     \n",
       "22  Barley    Alberta      3600     \n",
       "23  Barley    Saskatchewan 3600     \n",
       "24  Wheat     Canada       3600     \n",
       "25  Barley    Alberta      3600     \n",
       "26  Wheat     Canada       3600     \n",
       "27  Barley    Saskatchewan 3600     \n",
       "28  Barley    Alberta      3595     \n",
       "29  Wheat     Alberta      3518     \n",
       "30  Wheat     Canada       3512     \n",
       "⋮   ⋮         ⋮            ⋮        \n",
       "223 Rye       Canada       1700     \n",
       "224 Canola    Alberta      1700     \n",
       "225 Wheat     Saskatchewan 1700     \n",
       "226 Canola    Canada       1700     \n",
       "227 Canola    Alberta      1700     \n",
       "228 Canola    Saskatchewan 1700     \n",
       "229 Rye       Saskatchewan 1600     \n",
       "230 Wheat     Saskatchewan 1600     \n",
       "231 Rye       Alberta      1600     \n",
       "232 Canola    Canada       1600     \n",
       "233 Canola    Canada       1600     \n",
       "234 Rye       Saskatchewan 1600     \n",
       "235 Canola    Alberta      1500     \n",
       "236 Canola    Canada       1500     \n",
       "237 Canola    Alberta      1500     \n",
       "238 Wheat     Saskatchewan 1500     \n",
       "239 Canola    Saskatchewan 1500     \n",
       "240 Canola    Canada       1500     \n",
       "241 Canola    Saskatchewan 1400     \n",
       "242 Canola    Canada       1400     \n",
       "243 Canola    Saskatchewan 1400     \n",
       "244 Canola    Saskatchewan 1400     \n",
       "245 Canola    Canada       1300     \n",
       "246 Rye       Saskatchewan 1300     \n",
       "247 Canola    Saskatchewan 1300     \n",
       "248 Canola    Alberta      1200     \n",
       "249 Canola    Canada       1200     \n",
       "250 Canola    Saskatchewan 1200     \n",
       "251 Canola    Saskatchewan 1100     \n",
       "252 Canola    Saskatchewan 1000     "
      ]
     },
     "metadata": {},
     "output_type": "display_data"
    }
   ],
   "source": [
    "# Write your querye\n",
    "query <- 'SELECT CROP_TYPE, GEO, AVG_YIELD FROM CROP_DATA WHERE YEAR > \"2000\" ORDER BY AVG_YIELD DESC'\n",
    "dbGetQuery(conn, query)"
   ]
  },
  {
   "cell_type": "markdown",
   "metadata": {},
   "source": [
    "## Problem 12\n",
    "\n",
    "#### Use a subquery to determine how much wheat was harvested in Canada in the most recent year of the data.\n"
   ]
  },
  {
   "cell_type": "code",
   "execution_count": 53,
   "metadata": {
    "tags": []
   },
   "outputs": [
    {
     "data": {
      "text/html": [
       "<table>\n",
       "<caption>A data.frame: 1 × 2</caption>\n",
       "<thead>\n",
       "\t<tr><th scope=col>YEAR</th><th scope=col>SUM(PRODUCTION)</th></tr>\n",
       "\t<tr><th scope=col>&lt;chr&gt;</th><th scope=col>&lt;int&gt;</th></tr>\n",
       "</thead>\n",
       "<tbody>\n",
       "\t<tr><td>2020-12-31</td><td>35183000</td></tr>\n",
       "</tbody>\n",
       "</table>\n"
      ],
      "text/latex": [
       "A data.frame: 1 × 2\n",
       "\\begin{tabular}{ll}\n",
       " YEAR & SUM(PRODUCTION)\\\\\n",
       " <chr> & <int>\\\\\n",
       "\\hline\n",
       "\t 2020-12-31 & 35183000\\\\\n",
       "\\end{tabular}\n"
      ],
      "text/markdown": [
       "\n",
       "A data.frame: 1 × 2\n",
       "\n",
       "| YEAR &lt;chr&gt; | SUM(PRODUCTION) &lt;int&gt; |\n",
       "|---|---|\n",
       "| 2020-12-31 | 35183000 |\n",
       "\n"
      ],
      "text/plain": [
       "  YEAR       SUM(PRODUCTION)\n",
       "1 2020-12-31 35183000       "
      ]
     },
     "metadata": {},
     "output_type": "display_data"
    }
   ],
   "source": [
    "# Write your query here\n",
    "query <- 'SELECT YEAR, SUM(PRODUCTION) FROM CROP_DATA WHERE (GEO LIKE \"CANADA\") AND (CROP_TYPE LIKE \"WHEAT\") AND (YEAR LIKE (SELECT MAX(YEAR) FROM CROP_DATA))'\n",
    "dbGetQuery(conn, query)"
   ]
  },
  {
   "cell_type": "markdown",
   "metadata": {},
   "source": [
    "## Problem 13\n",
    "\n",
    "#### Use an implicit inner join to calculate the monthly price per metric tonne of Canola grown in Saskatchewan in both Canadian and US dollars. Display the most recent 6 months of the data.\n"
   ]
  },
  {
   "cell_type": "code",
   "execution_count": 72,
   "metadata": {
    "tags": []
   },
   "outputs": [
    {
     "data": {
      "text/html": [
       "<table>\n",
       "<caption>A data.frame: 6 × 2</caption>\n",
       "<thead>\n",
       "\t<tr><th scope=col>Canadian_Dollars</th><th scope=col>US_Dollars</th></tr>\n",
       "\t<tr><th scope=col>&lt;dbl&gt;</th><th scope=col>&lt;dbl&gt;</th></tr>\n",
       "</thead>\n",
       "<tbody>\n",
       "\t<tr><td>202.05</td><td>266.5598</td></tr>\n",
       "\t<tr><td>204.76</td><td>270.1350</td></tr>\n",
       "\t<tr><td>482.78</td><td>636.9202</td></tr>\n",
       "\t<tr><td>488.45</td><td>644.4005</td></tr>\n",
       "\t<tr><td>140.95</td><td>185.9520</td></tr>\n",
       "\t<tr><td>257.08</td><td>339.1595</td></tr>\n",
       "</tbody>\n",
       "</table>\n"
      ],
      "text/latex": [
       "A data.frame: 6 × 2\n",
       "\\begin{tabular}{ll}\n",
       " Canadian\\_Dollars & US\\_Dollars\\\\\n",
       " <dbl> & <dbl>\\\\\n",
       "\\hline\n",
       "\t 202.05 & 266.5598\\\\\n",
       "\t 204.76 & 270.1350\\\\\n",
       "\t 482.78 & 636.9202\\\\\n",
       "\t 488.45 & 644.4005\\\\\n",
       "\t 140.95 & 185.9520\\\\\n",
       "\t 257.08 & 339.1595\\\\\n",
       "\\end{tabular}\n"
      ],
      "text/markdown": [
       "\n",
       "A data.frame: 6 × 2\n",
       "\n",
       "| Canadian_Dollars &lt;dbl&gt; | US_Dollars &lt;dbl&gt; |\n",
       "|---|---|\n",
       "| 202.05 | 266.5598 |\n",
       "| 204.76 | 270.1350 |\n",
       "| 482.78 | 636.9202 |\n",
       "| 488.45 | 644.4005 |\n",
       "| 140.95 | 185.9520 |\n",
       "| 257.08 | 339.1595 |\n",
       "\n"
      ],
      "text/plain": [
       "  Canadian_Dollars US_Dollars\n",
       "1 202.05           266.5598  \n",
       "2 204.76           270.1350  \n",
       "3 482.78           636.9202  \n",
       "4 488.45           644.4005  \n",
       "5 140.95           185.9520  \n",
       "6 257.08           339.1595  "
      ]
     },
     "metadata": {},
     "output_type": "display_data"
    }
   ],
   "source": [
    "# Write your query here\n",
    "query <- 'SELECT PRICE_PRERMT AS \"Canadian_Dollars\", (PRICE_PRERMT*MF.FXUSDCAD) AS \"US_Dollars\" FROM FARM_PRICES FP INNER JOIN MONTHLY_FX MF ON FP.DATE = MF.DATE LIMIT 6'\n",
    "dbGetQuery(conn, query)"
   ]
  },
  {
   "cell_type": "markdown",
   "metadata": {},
   "source": [
    "## Author(s)\n",
    "\n",
    "<h4> Jeff Grossman </h4>\n",
    "\n",
    "<h4> D.M. Naidu </h4>\n",
    "\n",
    "## Contributor(s)\n",
    "\n",
    "<h4> Rav Ahuja </h4>\n",
    "\n",
    "<h4> Lakshmi Holla </h4>\n",
    "\n",
    "\n",
    "## Change log\n",
    "\n",
    "| Date       | Version | Changed by    | Change Description                        |\n",
    "| ---------- | ------- | ------------- | ----------------------------------------- |\n",
    "| 2022-03-03 | 1.0     | D.M. Naidu    | Converted intial version to RSQLite       |\n",
    "\n",
    "## <h3 align=\"center\"> © IBM Corporation 2022. All rights reserved. <h3/>\n"
   ]
  }
 ],
 "metadata": {
  "kernelspec": {
   "display_name": "R",
   "language": "R",
   "name": "conda-env-r-r"
  },
  "language_info": {
   "codemirror_mode": "r",
   "file_extension": ".r",
   "mimetype": "text/x-r-source",
   "name": "R",
   "pygments_lexer": "r",
   "version": "3.5.1"
  }
 },
 "nbformat": 4,
 "nbformat_minor": 4
}
